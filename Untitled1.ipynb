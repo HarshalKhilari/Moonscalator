{
 "cells": [
  {
   "cell_type": "code",
   "execution_count": 3,
   "id": "d1ede7b3-043e-46fe-8130-0bb597f2f57a",
   "metadata": {},
   "outputs": [],
   "source": [
    "import streamlit as st\n",
    "from plotly import graph_objs as go"
   ]
  },
  {
   "cell_type": "code",
   "execution_count": 4,
   "id": "33d69d0a-9993-41e9-bda8-30985a2c179c",
   "metadata": {},
   "outputs": [
    {
     "name": "stderr",
     "output_type": "stream",
     "text": [
      "2023-06-23 19:54:22.677 \n",
      "  \u001b[33m\u001b[1mWarning:\u001b[0m to view this Streamlit app on a browser, run it with the following\n",
      "  command:\n",
      "\n",
      "    streamlit run C:\\Users\\harsh\\AppData\\Roaming\\jupyterlab-desktop\\jlab_server\\lib\\site-packages\\ipykernel_launcher.py [ARGUMENTS]\n"
     ]
    },
    {
     "data": {
      "text/plain": [
       "DeltaGenerator()"
      ]
     },
     "execution_count": 4,
     "metadata": {},
     "output_type": "execute_result"
    }
   ],
   "source": [
    "st.title('Stock Price Forecasting App')"
   ]
  },
  {
   "cell_type": "code",
   "execution_count": null,
   "id": "b316c41d-aad0-41fa-b0bb-1597f7860d0e",
   "metadata": {},
   "outputs": [],
   "source": [
    "st.text_input('Enter Stock ticker: ')"
   ]
  },
  {
   "cell_type": "code",
   "execution_count": 6,
   "id": "05ec324e-34fb-4c20-b5d5-91fdc5ed0b50",
   "metadata": {},
   "outputs": [
    {
     "name": "stderr",
     "output_type": "stream",
     "text": [
      "Usage: streamlit run [OPTIONS] TARGET [ARGS]...\n",
      "Try 'streamlit run --help' for help.\n",
      "\n",
      "Error: Streamlit requires raw Python (.py) files, but the provided file has no extension.\n",
      "For more information, please see https://docs.streamlit.io\n"
     ]
    }
   ],
   "source": [
    "! streamlit run hello"
   ]
  },
  {
   "cell_type": "code",
   "execution_count": null,
   "id": "6b362c41-3e63-4958-99ca-467830127c82",
   "metadata": {},
   "outputs": [],
   "source": []
  }
 ],
 "metadata": {
  "kernelspec": {
   "display_name": "Python 3 (ipykernel)",
   "language": "python",
   "name": "python3"
  },
  "language_info": {
   "codemirror_mode": {
    "name": "ipython",
    "version": 3
   },
   "file_extension": ".py",
   "mimetype": "text/x-python",
   "name": "python",
   "nbconvert_exporter": "python",
   "pygments_lexer": "ipython3",
   "version": "3.8.16"
  }
 },
 "nbformat": 4,
 "nbformat_minor": 5
}
