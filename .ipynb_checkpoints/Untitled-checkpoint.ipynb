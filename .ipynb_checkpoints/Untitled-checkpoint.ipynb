{
 "cells": [
  {
   "cell_type": "code",
   "execution_count": 1,
   "id": "e643f03c-b1ee-441e-8be1-105c4a79db59",
   "metadata": {},
   "outputs": [],
   "source": [
    "import os, sys\n",
    "\n",
    "import pandas as pd\n",
    "from plotly import graph_objs as go\n",
    "\n",
    "import yfinance as yf\n",
    "\n",
    "from requests import Session\n",
    "from requests_cache import CacheMixin, SQLiteCache\n",
    "from requests_ratelimiter import LimiterMixin, MemoryQueueBucket\n",
    "from pyrate_limiter import Duration, RequestRate, Limiter\n",
    "\n",
    "# CachedLimiterSession class extends the CacheMixin, LimiterMixin, and Session classes.\n",
    "# This class combines request caching (SQLiteCache) and rate limiting (Limiter) functionalities to prevent excessive API requests.\n",
    "class CachedLimiterSession(CacheMixin, LimiterMixin, Session):\n",
    "    pass\n",
    "\n",
    "# An instance of CachedLimiterSession is created as session with a rate limit of 2 requests per 5 seconds and a caching backend using SQLite.\n",
    "session = CachedLimiterSession(\n",
    "    limiter=Limiter(RequestRate(2, Duration.SECOND*5)),  # max 2 requests per 5 seconds\n",
    "    bucket_class=MemoryQueueBucket,\n",
    "    backend=SQLiteCache(\"yfinance.cache\")\n",
    "    )\n",
    "\n",
    "# suppresses the output to the standard output stream (stdout). \n",
    "# This class is used to silence the printing of unwanted information during the execution of the script.\n",
    "class HiddenPrints:\n",
    "    def __enter__(self):\n",
    "        self._original_stdout = sys.stdout\n",
    "        sys.stdout = open(os.devnull, 'w')\n",
    "\n",
    "    def __exit__(self, exc_type, exc_val, exc_tb):\n",
    "        sys.stdout.close()\n",
    "        sys.stdout = self._original_stdout\n",
    "\n",
    "\n",
    "def plot_stock_data(stock, hist):\n",
    "    # Input: yfinance stock ticker, dataframe of historical data\n",
    "    # Provides interactive plot of the Open and Close stock prices\n",
    "\n",
    "    # Create a plotly figure graphical object\n",
    "    fig = go.Figure()\n",
    "    # Add Scatter plots for Open and Close prices\n",
    "    fig.add_trace(go.Scatter(x=hist.index, y=hist.Open, name=\"Stock Open\"))\n",
    "    fig.add_trace(go.Scatter(x=hist.index, y=hist.Close, name=\"Stock Close\"))\n",
    "    # Plotting Stock name as plot title (from stock ticker) with range slider for time\n",
    "    fig.layout.update(title_text=f\"{stock.info['longName']} Stock Price\", width = 1150, height = 600, xaxis_rangeslider_visible=True)\n",
    "    # Show plot\n",
    "    fig.show()"
   ]
  },
  {
   "cell_type": "code",
   "execution_count": 3,
   "id": "54d1607a-a65a-45ff-94f3-a5572dd10064",
   "metadata": {},
   "outputs": [
    {
     "name": "stdin",
     "output_type": "stream",
     "text": [
      "Enter the stock symbol here: (Enter quit to exit) reliance.ns\n"
     ]
    },
    {
     "data": {
      "text/html": [
       "<div>\n",
       "<style scoped>\n",
       "    .dataframe tbody tr th:only-of-type {\n",
       "        vertical-align: middle;\n",
       "    }\n",
       "\n",
       "    .dataframe tbody tr th {\n",
       "        vertical-align: top;\n",
       "    }\n",
       "\n",
       "    .dataframe thead th {\n",
       "        text-align: right;\n",
       "    }\n",
       "</style>\n",
       "<table border=\"1\" class=\"dataframe\">\n",
       "  <thead>\n",
       "    <tr style=\"text-align: right;\">\n",
       "      <th></th>\n",
       "      <th>Close</th>\n",
       "    </tr>\n",
       "    <tr>\n",
       "      <th>Date</th>\n",
       "      <th></th>\n",
       "    </tr>\n",
       "  </thead>\n",
       "  <tbody>\n",
       "    <tr>\n",
       "      <th>1996-01-01 00:00:00+05:30</th>\n",
       "      <td>10.477992</td>\n",
       "    </tr>\n",
       "    <tr>\n",
       "      <th>1996-01-02 00:00:00+05:30</th>\n",
       "      <td>10.396511</td>\n",
       "    </tr>\n",
       "    <tr>\n",
       "      <th>1996-01-03 00:00:00+05:30</th>\n",
       "      <td>10.475447</td>\n",
       "    </tr>\n",
       "    <tr>\n",
       "      <th>1996-01-04 00:00:00+05:30</th>\n",
       "      <td>10.378683</td>\n",
       "    </tr>\n",
       "    <tr>\n",
       "      <th>1996-01-05 00:00:00+05:30</th>\n",
       "      <td>10.307391</td>\n",
       "    </tr>\n",
       "    <tr>\n",
       "      <th>...</th>\n",
       "      <td>...</td>\n",
       "    </tr>\n",
       "    <tr>\n",
       "      <th>2023-06-16 00:00:00+05:30</th>\n",
       "      <td>2577.399902</td>\n",
       "    </tr>\n",
       "    <tr>\n",
       "      <th>2023-06-19 00:00:00+05:30</th>\n",
       "      <td>2551.800049</td>\n",
       "    </tr>\n",
       "    <tr>\n",
       "      <th>2023-06-20 00:00:00+05:30</th>\n",
       "      <td>2557.100098</td>\n",
       "    </tr>\n",
       "    <tr>\n",
       "      <th>2023-06-21 00:00:00+05:30</th>\n",
       "      <td>2564.300049</td>\n",
       "    </tr>\n",
       "    <tr>\n",
       "      <th>2023-06-22 00:00:00+05:30</th>\n",
       "      <td>2535.500000</td>\n",
       "    </tr>\n",
       "  </tbody>\n",
       "</table>\n",
       "<p>6907 rows × 1 columns</p>\n",
       "</div>"
      ],
      "text/plain": [
       "                                 Close\n",
       "Date                                  \n",
       "1996-01-01 00:00:00+05:30    10.477992\n",
       "1996-01-02 00:00:00+05:30    10.396511\n",
       "1996-01-03 00:00:00+05:30    10.475447\n",
       "1996-01-04 00:00:00+05:30    10.378683\n",
       "1996-01-05 00:00:00+05:30    10.307391\n",
       "...                                ...\n",
       "2023-06-16 00:00:00+05:30  2577.399902\n",
       "2023-06-19 00:00:00+05:30  2551.800049\n",
       "2023-06-20 00:00:00+05:30  2557.100098\n",
       "2023-06-21 00:00:00+05:30  2564.300049\n",
       "2023-06-22 00:00:00+05:30  2535.500000\n",
       "\n",
       "[6907 rows x 1 columns]"
      ]
     },
     "execution_count": 3,
     "metadata": {},
     "output_type": "execute_result"
    }
   ],
   "source": [
    "# Code to get a dataframe of the historical stock data\n",
    "# Take ticker symbol from user\n",
    "symbol = input(\"Enter the stock symbol here: (Enter quit to exit)\")\n",
    "# Create a yfinance ticker object for user-defined symbol and using a session for rate-limiting and request caching\n",
    "stock = yf.Ticker(symbol, session=session)\n",
    "# If symbol is invalid, yfinance prints a long message regarding unavailability of the data and possible reasons, and returns an empty dataframe\n",
    "# To supress this message, we use HiddenPrints class\n",
    "with HiddenPrints():\n",
    "    # Get entire available stock data using yfinance for user-defined symbol\n",
    "    hist = stock.history(period=\"max\")\n",
    "# If dataframe is empty, we print a message regarding unavailability of data\n",
    "if hist.shape[0] == 0:\n",
    "    print(\"No data found. Symbol is not listed.\")\n",
    "# Dropping Dividends and Stock Splits columns as Dividends are very rare and price changes after Stock Splits are accounted for in yahoo finance\n",
    "hist = hist[['Close']]\n",
    "# If historical data is retrieved, we print the dataframe\n",
    "hist"
   ]
  },
  {
   "cell_type": "code",
   "execution_count": 15,
   "id": "b7464f03-28aa-4a7d-9b45-9cec30811675",
   "metadata": {},
   "outputs": [],
   "source": [
    "def calculate_directional_accuracy(actual_prices, predicted_prices):\n",
    "    # Ensure the lengths of actual_prices and predicted_prices are the same\n",
    "    if len(actual_prices) != len(predicted_prices):\n",
    "        raise ValueError(\"Lengths of actual_prices and predicted_prices must be the same.\")\n",
    "\n",
    "    correct_predictions = 0\n",
    "    total_predictions = len(actual_prices) - 1  # Exclude the first price for direction comparison\n",
    "\n",
    "    for i in range(1, len(actual_prices)):\n",
    "        actual_direction = actual_prices[i] - actual_prices[i-1]\n",
    "        predicted_direction = predicted_prices[i] - actual_prices[i-1]\n",
    "\n",
    "        if (actual_direction >= 0 and predicted_direction >= 0) or (actual_direction < 0 and predicted_direction < 0):\n",
    "            correct_predictions += 1\n",
    "\n",
    "    directional_accuracy = correct_predictions / total_predictions\n",
    "\n",
    "    return directional_accuracy"
   ]
  },
  {
   "cell_type": "code",
   "execution_count": 30,
   "id": "37df5a85-78b1-47ea-926d-0076686fd5ce",
   "metadata": {},
   "outputs": [],
   "source": [
    "def get_forecast(hist, validation_days = 365, days_to_forecast = 30):\n",
    "\n",
    "    # Getting the latest date from the dataframe\n",
    "    last_day = hist.index[-1]\n",
    "\n",
    "    # Getting the last training day based on the passed valudation days\n",
    "    last_train_day = last_day - relativedelta(days = validation_days)\n",
    "\n",
    "    # Getting training and testing test\n",
    "    y_train = hist.loc[:last_train_day, 'Close']\n",
    "    y_test = hist.loc[last_train_day:, 'Close']\n",
    "\n",
    "    # Getting the last forecast day\n",
    "    last_forecast_day = last_day + relativedelta(days = days_to_forecast)\n",
    "\n",
    "    # Getting data range for forecast days\n",
    "    forecast_days = pd.date_range(start = last_day + relativedelta(days = 1), end = last_forecast_day, freq=\"B\").tolist()\n",
    "\n",
    "    \n",
    "    # fc_arima, errors_arima = auto_arima_model(y_train, y_test, forecast_days)\n",
    "    # fc_lstm, errors_lstm = lstm_model(y_train, y_test, forecast_days)\n",
    "    # fc_mcmc, errors_mcmc = \n",
    "    MH(y_train, y_test, forecast_days)\n",
    "    \n",
    "    \n",
    "    # fc_final = multi_model_avg()\n",
    "    # plot_stock_data(hist, fc_final)"
   ]
  },
  {
   "cell_type": "code",
   "execution_count": 17,
   "id": "9901280a-1646-4e36-bbd6-97417863b103",
   "metadata": {},
   "outputs": [],
   "source": [
    "import pmdarima as pm\n",
    "from pmdarima.arima import ndiffs, nsdiffs\n",
    "from dateutil.relativedelta import relativedelta\n",
    "from sklearn.metrics import mean_squared_error\n",
    "from pmdarima.metrics import smape\n",
    "\n",
    "def auto_arima_model(y_train, y_test, forecast_days):\n",
    "    \n",
    "    # Creating a dataframe to store forecasts\n",
    "    fc_df = pd.DataFrame(columns = ['fc', 'conf_low', 'conf_high'], index = forecast_days)\n",
    "\n",
    "    auto = pm.auto_arima(\n",
    "                     y = y_train, \n",
    "                     start_p = 1,\n",
    "                     start_q = 1,\n",
    "                     max_order = None,\n",
    "                     seasonal=False, \n",
    "                     stepwise=False,\n",
    "                     maxiter = 100,\n",
    "                     suppress_warnings=True, \n",
    "                     error_action=\"ignore\",\n",
    "                     trace=True, \n",
    "                     n_jobs = -1\n",
    "                        )\n",
    "\n",
    "    model = auto  # seeded from the model we've already fit\n",
    "\n",
    "    def validate_and_update():\n",
    "        fc, conf_int = model.predict(n_periods=1, return_conf_int=True)\n",
    "        return (fc.tolist()[0], np.asarray(conf_int).tolist()[0])\n",
    "    \n",
    "    forecasts = []\n",
    "    confidence_intervals = []\n",
    "    \n",
    "    for date, price in y_test.items():\n",
    "        #new_obs = pd.Series([price], index = [date], name = 'Close')\n",
    "        fc, conf = validate_and_update()\n",
    "        forecasts.append(fc)\n",
    "        confidence_intervals.append(conf)\n",
    "        # Updates the existing model with a small number of MLE steps\n",
    "        model.update(pd.Series([price], index = [date], name = 'Close'))\n",
    "    \n",
    "    errors = {\n",
    "        \"Mean squared error\": mean_squared_error(y_test, forecasts),\n",
    "        \"SMAPE\": smape(y_test, forecasts),\n",
    "        \"DA\": calculate_directional_accuracy(y_test, forecasts)\n",
    "    }\n",
    "    \n",
    "    def forecast_one_month():\n",
    "        fc, conf_int = model.predict(n_periods=fc_df.shape[0], return_conf_int=True)\n",
    "        return (\n",
    "            fc.tolist(),\n",
    "            np.asarray(conf_int).tolist())\n",
    "    \n",
    "    fc, conf = forecast_one_month()\n",
    "    i=0\n",
    "    for new_day in fc_df.index.tolist():\n",
    "        fc_df.loc[new_day, 'fc'] = fc[i]\n",
    "        fc_df.loc[new_day, 'conf_low'] = conf[i][0]\n",
    "        fc_df.loc[new_day, 'conf_high'] = conf[i][1]\n",
    "        i+=1\n",
    "    \n",
    "    return fc_df, errors"
   ]
  },
  {
   "cell_type": "code",
   "execution_count": 2,
   "id": "820bcc11-34c3-4a83-99be-6d8387d7e15e",
   "metadata": {
    "papermill": {
     "duration": 1.260466,
     "end_time": "2021-09-10T14:18:07.244091",
     "exception": false,
     "start_time": "2021-09-10T14:18:05.983625",
     "status": "completed"
    },
    "tags": []
   },
   "outputs": [],
   "source": [
    "# import plotly package for graphs\n",
    "import plotly\n",
    "import plotly.graph_objs as go\n",
    "import plotly.express as px\n",
    "from plotly.subplots import make_subplots"
   ]
  },
  {
   "cell_type": "code",
   "execution_count": 25,
   "id": "fd8e1f66-a9cd-41f7-908f-aecea16b93f5",
   "metadata": {
    "papermill": {
     "duration": 5.538226,
     "end_time": "2021-09-10T14:18:13.167916",
     "exception": false,
     "start_time": "2021-09-10T14:18:07.629690",
     "status": "completed"
    },
    "tags": []
   },
   "outputs": [],
   "source": [
    "from sklearn.preprocessing import MinMaxScaler\n",
    "import math\n",
    "import matplotlib.pyplot as plt\n",
    "import keras\n",
    "import pandas as pd\n",
    "import numpy as np\n",
    "from keras.models import Sequential\n",
    "from keras.layers import Dense\n",
    "from keras.layers import LSTM\n",
    "from keras.layers import Dropout\n",
    "from keras.layers import *\n",
    "from sklearn.preprocessing import MinMaxScaler\n",
    "from sklearn.metrics import mean_squared_error\n",
    "from sklearn.metrics import mean_absolute_error\n",
    "from sklearn.model_selection import train_test_split\n",
    "from keras.callbacks import EarlyStopping\n",
    "from keras.models import Sequential\n",
    "from keras.layers import Dense, LSTM\n",
    "\n",
    "def lstm(y_train, y_test, forecast_days):\n",
    "\n",
    "    trainset = y_train.values\n",
    "    testset = y_test.values\n",
    "\n",
    "    # Scale our data from 0 to 1\n",
    "    scaler = MinMaxScaler(feature_range=(0,1))\n",
    "    scaler.fit(np.concatenate((trainset, testset), axis=0))\n",
    "    y_train_scaled = scaler.transform(trainset)\n",
    "    y_test_scaled = scaler.transform(testset)\n",
    "    \n",
    "    # Use our scaled data for training\n",
    "    train_data = scaled_data[0:training_data_len, :]\n",
    "    train_X = []\n",
    "    train_y = []\n",
    "\n",
    "    for i in range(60, len(y_train_scaled)):\n",
    "        train_X.append(y_train_scaled[i-60:i, 0])\n",
    "        train_y.append(y_train_scaled[i, 0])\n",
    "\n",
    "    train_X, train_y = np.array(train_X), np.array(train_y)\n",
    "\n",
    "    train_X = np.reshape(train_X, (train_X.shape[0], train_X.shape[1], 1))\n",
    "    \n",
    "    # Build LSTM model\n",
    "    model = Sequential()\n",
    "    model.add(LSTM(128, return_sequences=True, input_shape = (train_X.shape[1], 1)))\n",
    "    model.add(Dropout(0.35))\n",
    "    model.add(LSTM(64, return_sequences=False))\n",
    "    model.add(Dropout(0.3))\n",
    "    model.add(Dense(25, activation = 'relu'))\n",
    "    model.add(Dense(1))\n",
    "    \n",
    "    # Compile the model\n",
    "    model.compile(optimizer='adam', loss='mean_squared_error', metrics=['accuracy'])\n",
    "\n",
    "    # Тrain the model\n",
    "    model.fit(train_X, train_y, batch_size=1, epochs=50)\n",
    "    \n",
    "    # Structure of the model\n",
    "    keras.utils.plot_model(model, 'multi_input_and_output_model.png', show_shapes=True)\n",
    "\n",
    "    # Create test dataset\n",
    "    test_X = []\n",
    "    for i in range(60, len(y_test_scaled)):\n",
    "        test_X.append(y_test_scaled[i-60:i, 0])\n",
    "\n",
    "    test_X = np.array(test_X)\n",
    "\n",
    "    test_X = np.reshape(test_X, (test_X.shape[0], test_X.shape[1], 1 ))\n",
    "\n",
    "    # Predict on test data\n",
    "    predictions = model.predict(test_X)\n",
    "    predictions = scaler.inverse_transform(predictions)\n",
    "\n",
    "    errors = {\n",
    "        \"Mean squared error\": mean_squared_error(y_test, predictions),\n",
    "        \"SMAPE\": smape(y_test, predictions),\n",
    "        \"DA\": calculate_directional_accuracy(y_test, predictions)\n",
    "    }\n",
    "    \n",
    "\n",
    "    # Predict the stock prices for the forecast interval\n",
    "    last_sequence = test_X[-60:]  # Use the last sequence from the training data\n",
    "    forecast = []\n",
    "\n",
    "    for _ in range(len(forecast_days)):\n",
    "        next_pred = model.predict(last_sequence.reshape(1, 60, 1))\n",
    "        forecast.append(next_pred[0])\n",
    "        last_sequence = np.append(last_sequence[1:], next_pred[0])\n",
    "\n",
    "    # Inverse transform the forecasted data to obtain actual stock prices\n",
    "    forecast = scaler.inverse_transform(np.array(forecast).reshape(-1, 1))\n",
    "\n",
    "    # Creating a dataframe to store forecasts\n",
    "    fc_df = pd.DataFrame(columns = ['fc'], index = forecast_days)\n",
    "\n",
    "    i=0\n",
    "    for new_day in fc_df.index.tolist():\n",
    "        fc_df.loc[new_day, 'fc'] = forecast[i]\n",
    "        i+=1\n",
    "    \n",
    "    return fc_df, errors"
   ]
  },
  {
   "attachments": {
    "d0a3868a-902b-4003-9a8c-39aa964f0686.PNG": {
     "image/png": "[encoded data removed]"
    }
   },
   "cell_type": "markdown",
   "id": "a34f3261-960d-4f3f-b8a4-6b82fe15b0ab",
   "metadata": {
    "papermill": {
     "duration": 0.495411,
     "end_time": "2021-09-10T14:20:53.331494",
     "exception": false,
     "start_time": "2021-09-10T14:20:52.836083",
     "status": "completed"
    },
    "tags": []
   },
   "source": [
    "For stock predicting using the following method we use stock price formula below, according to Black-Scholes method. That means, that price of stock follows a geometric Brownian motion with constant drift and volatility.\n",
    "\n",
    "![mcmc_price.PNG](attachment:d0a3868a-902b-4003-9a8c-39aa964f0686.PNG)\n",
    "\n",
    "z_t is our random shift indicator, which is generated with MCMC method.\n",
    "The inputs for the Black-Scholes equation are volatility (in our case 25%), stock price for previous time period and the risk-free interest rate (10%). As we predict prices for each day of next trading month, we use ∆t as 1(day)/22(trading days in month).\n"
   ]
  },
  {
   "cell_type": "code",
   "execution_count": 70,
   "id": "3ea89a1a-05e7-4494-8dea-cbc0ae7fa89f",
   "metadata": {
    "papermill": {
     "duration": 0.4824,
     "end_time": "2021-09-10T14:20:54.267160",
     "exception": false,
     "start_time": "2021-09-10T14:20:53.784760",
     "status": "completed"
    },
    "tags": []
   },
   "outputs": [],
   "source": [
    "import numpy as np\n",
    "import math\n",
    "from numpy import linalg as la\n",
    "import matplotlib.pyplot as plt\n",
    "import math\n",
    "import pandas as pd\n",
    "import yfinance as yf\n",
    "import statistics as stat\n",
    "from scipy.special import ndtri\n",
    "from scipy.stats import norm\n",
    "import random\n",
    "from sklearn.metrics import mean_squared_error\n",
    "\n",
    "mu, sig, N = 0.25, 1, 1000\n",
    "pts = []\n",
    "\n",
    "\n",
    "def q(x):\n",
    "    return (1 / (math.sqrt(2 * math.pi * sig ** 2))) * (math.e ** (-((x - mu) ** 2) / (2 * sig ** 2)))\n",
    "\n",
    "def MCMC(n):\n",
    "    r = np.zeros(1)\n",
    "    p = q(r[0])\n",
    "    pts = []\n",
    "\n",
    "    for i in range(N):\n",
    "        rn = r + np.random.uniform(-1, 1)\n",
    "        pn = q(rn[0])\n",
    "        if pn >= p:\n",
    "            p = pn\n",
    "            r = rn\n",
    "        else:\n",
    "            u = np.random.rand()\n",
    "            if u < pn / p:\n",
    "                p = pn\n",
    "                r = rn\n",
    "        pts.append(r)\n",
    "\n",
    "    pts = random.sample(pts, len(pts))\n",
    "    pts = np.array(pts)\n",
    "    \n",
    "    return pts\n",
    "\n",
    "def MH(y_train, y_test, forecast_days):\n",
    "    y_test = np.array(y_test)\n",
    "    stock_pred = []\n",
    "    maturnity = 0.95\n",
    "    volatility = 0.35\n",
    "    risk_free = 0.065\n",
    "    timestep = 1\n",
    "    steps = len(y_test)\n",
    "    delta_t = maturnity / steps\n",
    "    i = 0\n",
    "    stock_pred.append(y_train[-1])\n",
    "    while timestep < steps:\n",
    "        stock_price = stock_pred[-i]\n",
    "        time_exp = maturnity - delta_t * timestep\n",
    "        # Generate z_t using MCMC method\n",
    "        pts = MCMC(N)\n",
    "        stock_price = stock_price * math.exp(((risk_free - 0.5 * (\n",
    "            math.pow(volatility, 2))) * delta_t + volatility * math.sqrt(delta_t) * pts[timestep + 5]))\n",
    "        stock_pred.append(stock_price)\n",
    "        i = i + 1\n",
    "        timestep = timestep + 1\n",
    "    \n",
    "    rmse = math.sqrt(mean_squared_error(y_test, stock_pred))\n",
    "    print(f'RMSE MCMC: {rmse}')\n",
    "    \n",
    "    \n",
    "    # build graphs\n",
    "    preds_gr = np.reshape(stock_pred, (len(stock_pred),))\n",
    "    fig = go.Figure()\n",
    "    fig.add_trace(go.Scatter(x=list(range(0, len(stock_pred))), y=y_test, mode='lines+markers',  name='historical', marker_color='#39304A'))\n",
    "    fig.add_trace(go.Scatter(x=list(range(0, len(stock_pred))), y=preds_gr, mode='lines+markers', name='predictions', marker_color='#FFAA00'))\n",
    "    fig.update_layout(legend_orientation=\"h\",\n",
    "                  legend=dict(x=.5, xanchor=\"center\"),\n",
    "                  plot_bgcolor='#FFFFFF',  \n",
    "                  xaxis=dict(gridcolor = 'lightgrey'),\n",
    "                  yaxis=dict(gridcolor = 'lightgrey'),\n",
    "                  title_text = 'MCMC prediction', title_x = 0.5,\n",
    "                  xaxis_title=\"Timestep\",\n",
    "                  yaxis_title=\"Stock price\",\n",
    "                  width = 1150, \n",
    "                  height = 600,\n",
    "                  margin=dict(l=0, r=0, t=30, b=0))\n",
    "    fig.show()\n",
    "    \n",
    "    return stock_pred, rmse"
   ]
  },
  {
   "cell_type": "code",
   "execution_count": 71,
   "id": "a3de05d0-01e2-4a09-88fe-77db8d8b9f14",
   "metadata": {},
   "outputs": [
    {
     "name": "stdout",
     "output_type": "stream",
     "text": [
      "RMSE MCMC: 133.44827084842962\n"
     ]
    },
    {
     "data": {
      "application/vnd.plotly.v1+json": {
       "config": {
        "plotlyServerURL": "https://plot.ly"
       },
       "data": [
        {
         "marker": {
          "color": "#39304A"
         },
         "mode": "lines+markers",
         "name": "historical",
         "type": "scatter",
         "x": [
          0,
          1,
          2,
          3,
          4,
          5,
          6,
          7,
          8,
          9,
          10,
          11,
          12,
          13,
          14,
          15,
          16,
          17,
          18,
          19,
          20,
          21,
          22,
          23,
          24,
          25,
          26,
          27,
          28,
          29,
          30,
          31,
          32,
          33,
          34,
          35,
          36,
          37,
          38,
          39,
          40,
          41,
          42,
          43,
          44,
          45,
          46,
          47,
          48,
          49,
          50,
          51,
          52,
          53,
          54,
          55,
          56,
          57,
          58,
          59,
          60,
          61,
          62,
          63,
          64,
          65,
          66,
          67,
          68,
          69,
          70,
          71,
          72,
          73,
          74,
          75,
          76,
          77,
          78,
          79,
          80,
          81,
          82,
          83,
          84,
          85,
          86,
          87,
          88,
          89,
          90,
          91,
          92,
          93,
          94,
          95,
          96,
          97,
          98,
          99,
          100,
          101,
          102,
          103,
          104,
          105,
          106,
          107,
          108,
          109,
          110,
          111,
          112,
          113,
          114,
          115,
          116,
          117,
          118,
          119,
          120,
          121,
          122,
          123,
          124,
          125,
          126,
          127,
          128,
          129,
          130,
          131,
          132,
          133,
          134,
          135,
          136,
          137,
          138,
          139,
          140,
          141,
          142,
          143,
          144,
          145,
          146,
          147,
          148,
          149,
          150,
          151,
          152,
          153,
          154,
          155,
          156,
          157,
          158,
          159,
          160,
          161,
          162,
          163,
          164,
          165,
          166,
          167,
          168,
          169,
          170,
          171,
          172,
          173,
          174,
          175,
          176,
          177,
          178,
          179,
          180,
          181,
          182,
          183,
          184,
          185,
          186,
          187,
          188,
          189,
          190,
          191,
          192,
          193,
          194,
          195,
          196,
          197,
          198,
          199,
          200,
          201,
          202,
          203,
          204,
          205,
          206,
          207,
          208,
          209,
          210,
          211,
          212,
          213,
          214,
          215,
          216,
          217,
          218,
          219,
          220,
          221,
          222,
          223,
          224,
          225,
          226,
          227,
          228,
          229,
          230,
          231,
          232,
          233,
          234,
          235,
          236,
          237,
          238,
          239,
          240,
          241,
          242,
          243,
          244,
          245,
          246,
          247,
          248
         ],
         "y": [
          2498.0791015625,
          2457.551025390625,
          2492.545654296875,
          2485.167724609375,
          2520.112548828125,
          2572.405029296875,
          2587.858642578125,
          2401.4697265625,
          2406.454833984375,
          2425.946044921875,
          2404.6103515625,
          2380.931640625,
          2384.2216796875,
          2416.6240234375,
          2413.1845703125,
          2370.413330078125,
          2389.954345703125,
          2394.590576171875,
          2414.979248046875,
          2429.78466796875,
          2495.48681640625,
          2478.8369140625,
          2495.586669921875,
          2413.134521484375,
          2414.2314453125,
          2411.938232421875,
          2449.724609375,
          2501.91748046875,
          2567.12109375,
          2576.8916015625,
          2598.526611328125,
          2564.179931640625,
          2526.393798828125,
          2559.444091796875,
          2574.748046875,
          2583.322509765625,
          2625.096435546875,
          2643.341552734375,
          2657.14990234375,
          2661.300048828125,
          2613.85009765625,
          2606.60009765625,
          2646.800048828125,
          2639.75,
          2632.050048828125,
          2618,
          2597.64990234375,
          2637.949951171875,
          2560.39990234375,
          2530.5,
          2569.800048828125,
          2596.85009765625,
          2581.75,
          2585.39990234375,
          2569.300048828125,
          2598.050048828125,
          2619.75,
          2588.35009765625,
          2562.699951171875,
          2499.199951171875,
          2502.449951171875,
          2502.85009765625,
          2509.75,
          2486.10009765625,
          2439.5,
          2377.35009765625,
          2396.25,
          2332.449951171875,
          2325.300048828125,
          2377.75,
          2369.5,
          2413.199951171875,
          2422.10009765625,
          2432.35009765625,
          2405.800048828125,
          2357.89990234375,
          2375.25,
          2382.800048828125,
          2370.699951171875,
          2408.75,
          2451.25,
          2493.89990234375,
          2500.60009765625,
          2471.60009765625,
          2479.85009765625,
          2441.550048828125,
          2451.14990234375,
          2526.14990234375,
          2549.60009765625,
          2529.85009765625,
          2545.64990234375,
          2555.14990234375,
          2592.75,
          2606.60009765625,
          2604,
          2572.5,
          2631.800048828125,
          2619.050048828125,
          2607.300048828125,
          2592.35009765625,
          2599.050048828125,
          2597.64990234375,
          2550.89990234375,
          2565.050048828125,
          2557.050048828125,
          2579.10009765625,
          2617.60009765625,
          2707.550048828125,
          2712.199951171875,
          2731.35009765625,
          2723.300048828125,
          2722.14990234375,
          2682.449951171875,
          2690.199951171875,
          2650.5,
          2649.25,
          2609.10009765625,
          2613.10009765625,
          2625,
          2615.5,
          2578.35009765625,
          2565.60009765625,
          2599.300048828125,
          2621.800048828125,
          2584.5,
          2577.800048828125,
          2502.199951171875,
          2524.050048828125,
          2544.699951171875,
          2544.449951171875,
          2543.300048828125,
          2547.199951171875,
          2575.89990234375,
          2557.050048828125,
          2518.550048828125,
          2514.050048828125,
          2536.89990234375,
          2596.800048828125,
          2558.39990234375,
          2526.14990234375,
          2471.60009765625,
          2467.60009765625,
          2444.10009765625,
          2478.800048828125,
          2474.699951171875,
          2472.050048828125,
          2442.64990234375,
          2430.300048828125,
          2415.949951171875,
          2382.550048828125,
          2337.35009765625,
          2359.75,
          2353.85009765625,
          2339.89990234375,
          2326.949951171875,
          2329,
          2311.449951171875,
          2305.89990234375,
          2351.949951171875,
          2356.050048828125,
          2336.64990234375,
          2323.35009765625,
          2378.10009765625,
          2431.949951171875,
          2430.050048828125,
          2440.199951171875,
          2414.39990234375,
          2434.10009765625,
          2378.89990234375,
          2367.5,
          2383.699951171875,
          2367.85009765625,
          2322.550048828125,
          2343.89990234375,
          2326.050048828125,
          2385.39990234375,
          2408.699951171875,
          2417.35009765625,
          2359.25,
          2322.699951171875,
          2284.5,
          2275.949951171875,
          2237.050048828125,
          2225.89990234375,
          2223.10009765625,
          2201.25,
          2269.699951171875,
          2276.60009765625,
          2247.800048828125,
          2203.300048828125,
          2237.550048828125,
          2248,
          2234.699951171875,
          2331.050048828125,
          2331.449951171875,
          2325.85009765625,
          2341.449951171875,
          2324.85009765625,
          2336.35009765625,
          2346.64990234375,
          2355.5,
          2367.449951171875,
          2340.35009765625,
          2352,
          2346.050048828125,
          2349,
          2358,
          2376.050048828125,
          2362.10009765625,
          2377.050048828125,
          2420.5,
          2441.050048828125,
          2420.10009765625,
          2448,
          2441.75,
          2471.89990234375,
          2479.550048828125,
          2496.60009765625,
          2480.300048828125,
          2484.35009765625,
          2489.25,
          2453.800048828125,
          2439.300048828125,
          2434.050048828125,
          2441.949951171875,
          2455,
          2454.550048828125,
          2440.25,
          2439.949951171875,
          2506.5,
          2520.60009765625,
          2519.949951171875,
          2469.89990234375,
          2463.25,
          2455.199951171875,
          2477.25,
          2479.35009765625,
          2498.14990234375,
          2499.64990234375,
          2481.949951171875,
          2484.14990234375,
          2520.85009765625,
          2551.85009765625,
          2552.550048828125,
          2577.39990234375,
          2551.800048828125,
          2557.10009765625,
          2564.300048828125,
          2535.5
         ]
        },
        {
         "marker": {
          "color": "#FFAA00"
         },
         "mode": "lines+markers",
         "name": "predictions",
         "type": "scatter",
         "x": [
          0,
          1,
          2,
          3,
          4,
          5,
          6,
          7,
          8,
          9,
          10,
          11,
          12,
          13,
          14,
          15,
          16,
          17,
          18,
          19,
          20,
          21,
          22,
          23,
          24,
          25,
          26,
          27,
          28,
          29,
          30,
          31,
          32,
          33,
          34,
          35,
          36,
          37,
          38,
          39,
          40,
          41,
          42,
          43,
          44,
          45,
          46,
          47,
          48,
          49,
          50,
          51,
          52,
          53,
          54,
          55,
          56,
          57,
          58,
          59,
          60,
          61,
          62,
          63,
          64,
          65,
          66,
          67,
          68,
          69,
          70,
          71,
          72,
          73,
          74,
          75,
          76,
          77,
          78,
          79,
          80,
          81,
          82,
          83,
          84,
          85,
          86,
          87,
          88,
          89,
          90,
          91,
          92,
          93,
          94,
          95,
          96,
          97,
          98,
          99,
          100,
          101,
          102,
          103,
          104,
          105,
          106,
          107,
          108,
          109,
          110,
          111,
          112,
          113,
          114,
          115,
          116,
          117,
          118,
          119,
          120,
          121,
          122,
          123,
          124,
          125,
          126,
          127,
          128,
          129,
          130,
          131,
          132,
          133,
          134,
          135,
          136,
          137,
          138,
          139,
          140,
          141,
          142,
          143,
          144,
          145,
          146,
          147,
          148,
          149,
          150,
          151,
          152,
          153,
          154,
          155,
          156,
          157,
          158,
          159,
          160,
          161,
          162,
          163,
          164,
          165,
          166,
          167,
          168,
          169,
          170,
          171,
          172,
          173,
          174,
          175,
          176,
          177,
          178,
          179,
          180,
          181,
          182,
          183,
          184,
          185,
          186,
          187,
          188,
          189,
          190,
          191,
          192,
          193,
          194,
          195,
          196,
          197,
          198,
          199,
          200,
          201,
          202,
          203,
          204,
          205,
          206,
          207,
          208,
          209,
          210,
          211,
          212,
          213,
          214,
          215,
          216,
          217,
          218,
          219,
          220,
          221,
          222,
          223,
          224,
          225,
          226,
          227,
          228,
          229,
          230,
          231,
          232,
          233,
          234,
          235,
          236,
          237,
          238,
          239,
          240,
          241,
          242,
          243,
          244,
          245,
          246,
          247,
          248
         ],
         "y": [
          2498.0791015625,
          2406.470285281314,
          2470.236511369128,
          2332.012512971811,
          2481.552466168537,
          2416.142268291329,
          2446.6725356259244,
          2414.576037658833,
          2559.661534268908,
          2470.113723142601,
          2476.758382499252,
          2433.725086789824,
          2419.5000571313312,
          2404.722888781468,
          2341.455481410134,
          2398.8262243299787,
          2324.8992842032517,
          2459.1095216080726,
          2376.194036657908,
          2452.1277414226606,
          2386.656427362198,
          2427.087191744192,
          2467.135184814998,
          2484.0288117128043,
          2463.4403591758537,
          2437.792288991387,
          2503.7205458732296,
          2442.7060768211013,
          2445.9475722123207,
          2494.200480429528,
          2429.4094054527136,
          2466.056837692343,
          2472.8017535466547,
          2380.6656366405527,
          2399.009067165773,
          2497.061277792479,
          2333.6492891833336,
          2454.3834781082724,
          2385.9822769865364,
          2451.2598151690418,
          2261.540980736795,
          2509.085585446507,
          2508.003500297633,
          2541.6456874894543,
          2372.2661675115673,
          2458.4950403453463,
          2395.3286710392535,
          2454.7847492902165,
          2470.159351318404,
          2398.040871666819,
          2391.4220367716525,
          2544.118637352364,
          2424.2919581295764,
          2288.518712771041,
          2468.8773066947756,
          2352.7525620159613,
          2492.8620841034185,
          2358.3686013117435,
          2371.60445334298,
          2448.1641009996697,
          2371.0889942846984,
          2433.6059146273597,
          2448.0493440358473,
          2443.222314898999,
          2483.8445740735838,
          2352.8275474000675,
          2432.2692893833246,
          2441.7249174879885,
          2449.114011965244,
          2414.805434234607,
          2417.7250802423373,
          2345.413543308366,
          2303.002742259965,
          2491.0339597308835,
          2366.5518168119875,
          2407.922873372498,
          2460.6244792902257,
          2445.9965688813204,
          2509.1776550624686,
          2396.3244520529806,
          2430.0087303139358,
          2415.5682101540033,
          2412.6112949715152,
          2499.887992032728,
          2444.2723021479605,
          2469.274306464535,
          2401.151023511918,
          2435.5382871731863,
          2472.1314902544814,
          2406.390675160505,
          2341.53245801778,
          2348.3560523160922,
          2441.944310147215,
          2456.293042299397,
          2455.379014859438,
          2457.5883053986613,
          2377.572536600481,
          2474.7363910540194,
          2427.2311741804774,
          2369.838336582414,
          2428.5848754356325,
          2427.242391585421,
          2390.6058580749923,
          2407.0771624875056,
          2439.923128132248,
          2467.371095104264,
          2437.3152825397005,
          2391.160392399741,
          2387.522847015257,
          2449.141998581581,
          2438.738847866336,
          2429.4239834442374,
          2406.013503532595,
          2456.6101362419167,
          2358.5544882718054,
          2500.0475465521854,
          2422.0284879623764,
          2438.053447938354,
          2399.6650503599412,
          2368.255737525782,
          2445.3806529869203,
          2397.7861417693034,
          2381.7293501010467,
          2434.898668144886,
          2514.1814656459637,
          2376.039553049464,
          2382.394924465989,
          2442.7819947070498,
          2434.389637792618,
          2409.104077590504,
          2512.334202032094,
          2359.5029053823787,
          2429.6105003463254,
          2488.730846529624,
          2386.5147646250407,
          2388.88700977528,
          2438.8435163496747,
          2558.7259112240076,
          2285.7671646796575,
          2369.497947573431,
          2360.7552986148376,
          2414.278743410029,
          2395.33410100453,
          2384.663021372606,
          2402.361034040813,
          2398.5546891485656,
          2397.715104772632,
          2403.156052214237,
          2410.489490284441,
          2376.8046706970604,
          2407.200151318119,
          2350.4990108785782,
          2424.066327390235,
          2369.0642671436954,
          2531.8681933253724,
          2449.812931441915,
          2394.357364475625,
          2495.3182659797294,
          2408.495894712001,
          2459.16690649801,
          2486.5940366203913,
          2442.5794303233038,
          2495.7608585159455,
          2415.769930667481,
          2526.42552548959,
          2417.928000059901,
          2401.483787303188,
          2389.5555504956615,
          2360.291885257172,
          2495.7120034885843,
          2424.5098634453293,
          2422.4192994256327,
          2414.423994663765,
          2399.7506273100016,
          2421.7850883048272,
          2420.1567234413906,
          2506.885836337227,
          2456.74011408312,
          2407.3839292950224,
          2385.4630730003087,
          2415.988712271498,
          2398.285598071763,
          2472.3879721728345,
          2517.134513441469,
          2444.109147279743,
          2434.72181853223,
          2476.2126507625667,
          2338.1688332260437,
          2443.9389349217986,
          2394.9045923167073,
          2374.0250544321657,
          2487.726316118661,
          2423.7056497771273,
          2352.1132601462064,
          2443.5883131725,
          2395.3467999399995,
          2421.2990429392858,
          2485.9113417969197,
          2472.86937678236,
          2435.340926158912,
          2470.6427777033523,
          2403.7890969783266,
          2506.806160890952,
          2278.3276867242057,
          2467.235705598547,
          2374.2252459000433,
          2385.7520014882593,
          2382.1159147588173,
          2382.779023787711,
          2498.938447081542,
          2388.960898616152,
          2352.95220837207,
          2466.322995105687,
          2466.040081757885,
          2507.2845342990604,
          2386.3877868774875,
          2503.4897159272996,
          2354.6341225562855,
          2434.828899879307,
          2489.60236500732,
          2285.5094276715718,
          2375.9299136741806,
          2472.7400723187307,
          2443.734856007296,
          2412.530795249784,
          2389.3096659528373,
          2473.6669822002345,
          2467.6242570388836,
          2387.3136802456606,
          2490.4957678848627,
          2414.2147324656835,
          2335.0309212811585,
          2446.6777451203443,
          2480.422670999907,
          2370.795107470254,
          2459.734718727076,
          2433.779341746384,
          2434.1692970001086,
          2493.6210572770597,
          2467.729461522015,
          2472.221202053003,
          2371.297219693027,
          2463.9850400921378,
          2451.9788909801196,
          2553.7311427124323,
          2397.7461696337564,
          2403.6466439398414,
          2380.165693772418,
          2384.340716413851
         ]
        }
       ],
       "layout": {
        "height": 600,
        "legend": {
         "orientation": "h",
         "x": 0.5,
         "xanchor": "center",
         "y": -0.1
        },
        "margin": {
         "b": 0,
         "l": 0,
         "r": 0,
         "t": 30
        },
        "plot_bgcolor": "#FFFFFF",
        "template": {
         "data": {
          "bar": [
           {
            "error_x": {
             "color": "#2a3f5f"
            },
            "error_y": {
             "color": "#2a3f5f"
            },
            "marker": {
             "line": {
              "color": "#E5ECF6",
              "width": 0.5
             },
             "pattern": {
              "fillmode": "overlay",
              "size": 10,
              "solidity": 0.2
             }
            },
            "type": "bar"
           }
          ],
          "barpolar": [
           {
            "marker": {
             "line": {
              "color": "#E5ECF6",
              "width": 0.5
             },
             "pattern": {
              "fillmode": "overlay",
              "size": 10,
              "solidity": 0.2
             }
            },
            "type": "barpolar"
           }
          ],
          "carpet": [
           {
            "aaxis": {
             "endlinecolor": "#2a3f5f",
             "gridcolor": "white",
             "linecolor": "white",
             "minorgridcolor": "white",
             "startlinecolor": "#2a3f5f"
            },
            "baxis": {
             "endlinecolor": "#2a3f5f",
             "gridcolor": "white",
             "linecolor": "white",
             "minorgridcolor": "white",
             "startlinecolor": "#2a3f5f"
            },
            "type": "carpet"
           }
          ],
          "choropleth": [
           {
            "colorbar": {
             "outlinewidth": 0,
             "ticks": ""
            },
            "type": "choropleth"
           }
          ],
          "contour": [
           {
            "colorbar": {
             "outlinewidth": 0,
             "ticks": ""
            },
            "colorscale": [
             [
              0,
              "#0d0887"
             ],
             [
              0.1111111111111111,
              "#46039f"
             ],
             [
              0.2222222222222222,
              "#7201a8"
             ],
             [
              0.3333333333333333,
              "#9c179e"
             ],
             [
              0.4444444444444444,
              "#bd3786"
             ],
             [
              0.5555555555555556,
              "#d8576b"
             ],
             [
              0.6666666666666666,
              "#ed7953"
             ],
             [
              0.7777777777777778,
              "#fb9f3a"
             ],
             [
              0.8888888888888888,
              "#fdca26"
             ],
             [
              1,
              "#f0f921"
             ]
            ],
            "type": "contour"
           }
          ],
          "contourcarpet": [
           {
            "colorbar": {
             "outlinewidth": 0,
             "ticks": ""
            },
            "type": "contourcarpet"
           }
          ],
          "heatmap": [
           {
            "colorbar": {
             "outlinewidth": 0,
             "ticks": ""
            },
            "colorscale": [
             [
              0,
              "#0d0887"
             ],
             [
              0.1111111111111111,
              "#46039f"
             ],
             [
              0.2222222222222222,
              "#7201a8"
             ],
             [
              0.3333333333333333,
              "#9c179e"
             ],
             [
              0.4444444444444444,
              "#bd3786"
             ],
             [
              0.5555555555555556,
              "#d8576b"
             ],
             [
              0.6666666666666666,
              "#ed7953"
             ],
             [
              0.7777777777777778,
              "#fb9f3a"
             ],
             [
              0.8888888888888888,
              "#fdca26"
             ],
             [
              1,
              "#f0f921"
             ]
            ],
            "type": "heatmap"
           }
          ],
          "heatmapgl": [
           {
            "colorbar": {
             "outlinewidth": 0,
             "ticks": ""
            },
            "colorscale": [
             [
              0,
              "#0d0887"
             ],
             [
              0.1111111111111111,
              "#46039f"
             ],
             [
              0.2222222222222222,
              "#7201a8"
             ],
             [
              0.3333333333333333,
              "#9c179e"
             ],
             [
              0.4444444444444444,
              "#bd3786"
             ],
             [
              0.5555555555555556,
              "#d8576b"
             ],
             [
              0.6666666666666666,
              "#ed7953"
             ],
             [
              0.7777777777777778,
              "#fb9f3a"
             ],
             [
              0.8888888888888888,
              "#fdca26"
             ],
             [
              1,
              "#f0f921"
             ]
            ],
            "type": "heatmapgl"
           }
          ],
          "histogram": [
           {
            "marker": {
             "pattern": {
              "fillmode": "overlay",
              "size": 10,
              "solidity": 0.2
             }
            },
            "type": "histogram"
           }
          ],
          "histogram2d": [
           {
            "colorbar": {
             "outlinewidth": 0,
             "ticks": ""
            },
            "colorscale": [
             [
              0,
              "#0d0887"
             ],
             [
              0.1111111111111111,
              "#46039f"
             ],
             [
              0.2222222222222222,
              "#7201a8"
             ],
             [
              0.3333333333333333,
              "#9c179e"
             ],
             [
              0.4444444444444444,
              "#bd3786"
             ],
             [
              0.5555555555555556,
              "#d8576b"
             ],
             [
              0.6666666666666666,
              "#ed7953"
             ],
             [
              0.7777777777777778,
              "#fb9f3a"
             ],
             [
              0.8888888888888888,
              "#fdca26"
             ],
             [
              1,
              "#f0f921"
             ]
            ],
            "type": "histogram2d"
           }
          ],
          "histogram2dcontour": [
           {
            "colorbar": {
             "outlinewidth": 0,
             "ticks": ""
            },
            "colorscale": [
             [
              0,
              "#0d0887"
             ],
             [
              0.1111111111111111,
              "#46039f"
             ],
             [
              0.2222222222222222,
              "#7201a8"
             ],
             [
              0.3333333333333333,
              "#9c179e"
             ],
             [
              0.4444444444444444,
              "#bd3786"
             ],
             [
              0.5555555555555556,
              "#d8576b"
             ],
             [
              0.6666666666666666,
              "#ed7953"
             ],
             [
              0.7777777777777778,
              "#fb9f3a"
             ],
             [
              0.8888888888888888,
              "#fdca26"
             ],
             [
              1,
              "#f0f921"
             ]
            ],
            "type": "histogram2dcontour"
           }
          ],
          "mesh3d": [
           {
            "colorbar": {
             "outlinewidth": 0,
             "ticks": ""
            },
            "type": "mesh3d"
           }
          ],
          "parcoords": [
           {
            "line": {
             "colorbar": {
              "outlinewidth": 0,
              "ticks": ""
             }
            },
            "type": "parcoords"
           }
          ],
          "pie": [
           {
            "automargin": true,
            "type": "pie"
           }
          ],
          "scatter": [
           {
            "fillpattern": {
             "fillmode": "overlay",
             "size": 10,
             "solidity": 0.2
            },
            "type": "scatter"
           }
          ],
          "scatter3d": [
           {
            "line": {
             "colorbar": {
              "outlinewidth": 0,
              "ticks": ""
             }
            },
            "marker": {
             "colorbar": {
              "outlinewidth": 0,
              "ticks": ""
             }
            },
            "type": "scatter3d"
           }
          ],
          "scattercarpet": [
           {
            "marker": {
             "colorbar": {
              "outlinewidth": 0,
              "ticks": ""
             }
            },
            "type": "scattercarpet"
           }
          ],
          "scattergeo": [
           {
            "marker": {
             "colorbar": {
              "outlinewidth": 0,
              "ticks": ""
             }
            },
            "type": "scattergeo"
           }
          ],
          "scattergl": [
           {
            "marker": {
             "colorbar": {
              "outlinewidth": 0,
              "ticks": ""
             }
            },
            "type": "scattergl"
           }
          ],
          "scattermapbox": [
           {
            "marker": {
             "colorbar": {
              "outlinewidth": 0,
              "ticks": ""
             }
            },
            "type": "scattermapbox"
           }
          ],
          "scatterpolar": [
           {
            "marker": {
             "colorbar": {
              "outlinewidth": 0,
              "ticks": ""
             }
            },
            "type": "scatterpolar"
           }
          ],
          "scatterpolargl": [
           {
            "marker": {
             "colorbar": {
              "outlinewidth": 0,
              "ticks": ""
             }
            },
            "type": "scatterpolargl"
           }
          ],
          "scatterternary": [
           {
            "marker": {
             "colorbar": {
              "outlinewidth": 0,
              "ticks": ""
             }
            },
            "type": "scatterternary"
           }
          ],
          "surface": [
           {
            "colorbar": {
             "outlinewidth": 0,
             "ticks": ""
            },
            "colorscale": [
             [
              0,
              "#0d0887"
             ],
             [
              0.1111111111111111,
              "#46039f"
             ],
             [
              0.2222222222222222,
              "#7201a8"
             ],
             [
              0.3333333333333333,
              "#9c179e"
             ],
             [
              0.4444444444444444,
              "#bd3786"
             ],
             [
              0.5555555555555556,
              "#d8576b"
             ],
             [
              0.6666666666666666,
              "#ed7953"
             ],
             [
              0.7777777777777778,
              "#fb9f3a"
             ],
             [
              0.8888888888888888,
              "#fdca26"
             ],
             [
              1,
              "#f0f921"
             ]
            ],
            "type": "surface"
           }
          ],
          "table": [
           {
            "cells": {
             "fill": {
              "color": "#EBF0F8"
             },
             "line": {
              "color": "white"
             }
            },
            "header": {
             "fill": {
              "color": "#C8D4E3"
             },
             "line": {
              "color": "white"
             }
            },
            "type": "table"
           }
          ]
         },
         "layout": {
          "annotationdefaults": {
           "arrowcolor": "#2a3f5f",
           "arrowhead": 0,
           "arrowwidth": 1
          },
          "autotypenumbers": "strict",
          "coloraxis": {
           "colorbar": {
            "outlinewidth": 0,
            "ticks": ""
           }
          },
          "colorscale": {
           "diverging": [
            [
             0,
             "#8e0152"
            ],
            [
             0.1,
             "#c51b7d"
            ],
            [
             0.2,
             "#de77ae"
            ],
            [
             0.3,
             "#f1b6da"
            ],
            [
             0.4,
             "#fde0ef"
            ],
            [
             0.5,
             "#f7f7f7"
            ],
            [
             0.6,
             "#e6f5d0"
            ],
            [
             0.7,
             "#b8e186"
            ],
            [
             0.8,
             "#7fbc41"
            ],
            [
             0.9,
             "#4d9221"
            ],
            [
             1,
             "#276419"
            ]
           ],
           "sequential": [
            [
             0,
             "#0d0887"
            ],
            [
             0.1111111111111111,
             "#46039f"
            ],
            [
             0.2222222222222222,
             "#7201a8"
            ],
            [
             0.3333333333333333,
             "#9c179e"
            ],
            [
             0.4444444444444444,
             "#bd3786"
            ],
            [
             0.5555555555555556,
             "#d8576b"
            ],
            [
             0.6666666666666666,
             "#ed7953"
            ],
            [
             0.7777777777777778,
             "#fb9f3a"
            ],
            [
             0.8888888888888888,
             "#fdca26"
            ],
            [
             1,
             "#f0f921"
            ]
           ],
           "sequentialminus": [
            [
             0,
             "#0d0887"
            ],
            [
             0.1111111111111111,
             "#46039f"
            ],
            [
             0.2222222222222222,
             "#7201a8"
            ],
            [
             0.3333333333333333,
             "#9c179e"
            ],
            [
             0.4444444444444444,
             "#bd3786"
            ],
            [
             0.5555555555555556,
             "#d8576b"
            ],
            [
             0.6666666666666666,
             "#ed7953"
            ],
            [
             0.7777777777777778,
             "#fb9f3a"
            ],
            [
             0.8888888888888888,
             "#fdca26"
            ],
            [
             1,
             "#f0f921"
            ]
           ]
          },
          "colorway": [
           "#636efa",
           "#EF553B",
           "#00cc96",
           "#ab63fa",
           "#FFA15A",
           "#19d3f3",
           "#FF6692",
           "#B6E880",
           "#FF97FF",
           "#FECB52"
          ],
          "font": {
           "color": "#2a3f5f"
          },
          "geo": {
           "bgcolor": "white",
           "lakecolor": "white",
           "landcolor": "#E5ECF6",
           "showlakes": true,
           "showland": true,
           "subunitcolor": "white"
          },
          "hoverlabel": {
           "align": "left"
          },
          "hovermode": "closest",
          "mapbox": {
           "style": "light"
          },
          "paper_bgcolor": "white",
          "plot_bgcolor": "#E5ECF6",
          "polar": {
           "angularaxis": {
            "gridcolor": "white",
            "linecolor": "white",
            "ticks": ""
           },
           "bgcolor": "#E5ECF6",
           "radialaxis": {
            "gridcolor": "white",
            "linecolor": "white",
            "ticks": ""
           }
          },
          "scene": {
           "xaxis": {
            "backgroundcolor": "#E5ECF6",
            "gridcolor": "white",
            "gridwidth": 2,
            "linecolor": "white",
            "showbackground": true,
            "ticks": "",
            "zerolinecolor": "white"
           },
           "yaxis": {
            "backgroundcolor": "#E5ECF6",
            "gridcolor": "white",
            "gridwidth": 2,
            "linecolor": "white",
            "showbackground": true,
            "ticks": "",
            "zerolinecolor": "white"
           },
           "zaxis": {
            "backgroundcolor": "#E5ECF6",
            "gridcolor": "white",
            "gridwidth": 2,
            "linecolor": "white",
            "showbackground": true,
            "ticks": "",
            "zerolinecolor": "white"
           }
          },
          "shapedefaults": {
           "line": {
            "color": "#2a3f5f"
           }
          },
          "ternary": {
           "aaxis": {
            "gridcolor": "white",
            "linecolor": "white",
            "ticks": ""
           },
           "baxis": {
            "gridcolor": "white",
            "linecolor": "white",
            "ticks": ""
           },
           "bgcolor": "#E5ECF6",
           "caxis": {
            "gridcolor": "white",
            "linecolor": "white",
            "ticks": ""
           }
          },
          "title": {
           "x": 0.05
          },
          "xaxis": {
           "automargin": true,
           "gridcolor": "white",
           "linecolor": "white",
           "ticks": "",
           "title": {
            "standoff": 15
           },
           "zerolinecolor": "white",
           "zerolinewidth": 2
          },
          "yaxis": {
           "automargin": true,
           "gridcolor": "white",
           "linecolor": "white",
           "ticks": "",
           "title": {
            "standoff": 15
           },
           "zerolinecolor": "white",
           "zerolinewidth": 2
          }
         }
        },
        "title": {
         "text": "MCMC prediction",
         "x": 0.5
        },
        "width": 1150,
        "xaxis": {
         "autorange": true,
         "gridcolor": "lightgrey",
         "range": [
          -14.832414778526228,
          262.83241477852624
         ],
         "title": {
          "text": "Timestep"
         },
         "type": "linear"
        },
        "yaxis": {
         "autorange": true,
         "gridcolor": "lightgrey",
         "range": [
          2166.7259068032286,
          2765.8741908530214
         ],
         "title": {
          "text": "Stock price"
         },
         "type": "linear"
        }
       }
      },
      "text/html": [
       "<div>                            <div id=\"b118c2c3-3ba4-4270-84ed-9578d1a9bd9f\" class=\"plotly-graph-div\" style=\"height:600px; width:1150px;\"></div>            <script type=\"text/javascript\">                require([\"plotly\"], function(Plotly) {                    window.PLOTLYENV=window.PLOTLYENV || {};                                    if (document.getElementById(\"b118c2c3-3ba4-4270-84ed-9578d1a9bd9f\")) {                    Plotly.newPlot(                        \"b118c2c3-3ba4-4270-84ed-9578d1a9bd9f\",                        [{\"marker\":{\"color\":\"#39304A\"},\"mode\":\"lines+markers\",\"name\":\"historical\",\"x\":[0,1,2,3,4,5,6,7,8,9,10,11,12,13,14,15,16,17,18,19,20,21,22,23,24,25,26,27,28,29,30,31,32,33,34,35,36,37,38,39,40,41,42,43,44,45,46,47,48,49,50,51,52,53,54,55,56,57,58,59,60,61,62,63,64,65,66,67,68,69,70,71,72,73,74,75,76,77,78,79,80,81,82,83,84,85,86,87,88,89,90,91,92,93,94,95,96,97,98,99,100,101,102,103,104,105,106,107,108,109,110,111,112,113,114,115,116,117,118,119,120,121,122,123,124,125,126,127,128,129,130,131,132,133,134,135,136,137,138,139,140,141,142,143,144,145,146,147,148,149,150,151,152,153,154,155,156,157,158,159,160,161,162,163,164,165,166,167,168,169,170,171,172,173,174,175,176,177,178,179,180,181,182,183,184,185,186,187,188,189,190,191,192,193,194,195,196,197,198,199,200,201,202,203,204,205,206,207,208,209,210,211,212,213,214,215,216,217,218,219,220,221,222,223,224,225,226,227,228,229,230,231,232,233,234,235,236,237,238,239,240,241,242,243,244,245,246,247,248],\"y\":[2498.0791015625,2457.551025390625,2492.545654296875,2485.167724609375,2520.112548828125,2572.405029296875,2587.858642578125,2401.4697265625,2406.454833984375,2425.946044921875,2404.6103515625,2380.931640625,2384.2216796875,2416.6240234375,2413.1845703125,2370.413330078125,2389.954345703125,2394.590576171875,2414.979248046875,2429.78466796875,2495.48681640625,2478.8369140625,2495.586669921875,2413.134521484375,2414.2314453125,2411.938232421875,2449.724609375,2501.91748046875,2567.12109375,2576.8916015625,2598.526611328125,2564.179931640625,2526.393798828125,2559.444091796875,2574.748046875,2583.322509765625,2625.096435546875,2643.341552734375,2657.14990234375,2661.300048828125,2613.85009765625,2606.60009765625,2646.800048828125,2639.75,2632.050048828125,2618.0,2597.64990234375,2637.949951171875,2560.39990234375,2530.5,2569.800048828125,2596.85009765625,2581.75,2585.39990234375,2569.300048828125,2598.050048828125,2619.75,2588.35009765625,2562.699951171875,2499.199951171875,2502.449951171875,2502.85009765625,2509.75,2486.10009765625,2439.5,2377.35009765625,2396.25,2332.449951171875,2325.300048828125,2377.75,2369.5,2413.199951171875,2422.10009765625,2432.35009765625,2405.800048828125,2357.89990234375,2375.25,2382.800048828125,2370.699951171875,2408.75,2451.25,2493.89990234375,2500.60009765625,2471.60009765625,2479.85009765625,2441.550048828125,2451.14990234375,2526.14990234375,2549.60009765625,2529.85009765625,2545.64990234375,2555.14990234375,2592.75,2606.60009765625,2604.0,2572.5,2631.800048828125,2619.050048828125,2607.300048828125,2592.35009765625,2599.050048828125,2597.64990234375,2550.89990234375,2565.050048828125,2557.050048828125,2579.10009765625,2617.60009765625,2707.550048828125,2712.199951171875,2731.35009765625,2723.300048828125,2722.14990234375,2682.449951171875,2690.199951171875,2650.5,2649.25,2609.10009765625,2613.10009765625,2625.0,2615.5,2578.35009765625,2565.60009765625,2599.300048828125,2621.800048828125,2584.5,2577.800048828125,2502.199951171875,2524.050048828125,2544.699951171875,2544.449951171875,2543.300048828125,2547.199951171875,2575.89990234375,2557.050048828125,2518.550048828125,2514.050048828125,2536.89990234375,2596.800048828125,2558.39990234375,2526.14990234375,2471.60009765625,2467.60009765625,2444.10009765625,2478.800048828125,2474.699951171875,2472.050048828125,2442.64990234375,2430.300048828125,2415.949951171875,2382.550048828125,2337.35009765625,2359.75,2353.85009765625,2339.89990234375,2326.949951171875,2329.0,2311.449951171875,2305.89990234375,2351.949951171875,2356.050048828125,2336.64990234375,2323.35009765625,2378.10009765625,2431.949951171875,2430.050048828125,2440.199951171875,2414.39990234375,2434.10009765625,2378.89990234375,2367.5,2383.699951171875,2367.85009765625,2322.550048828125,2343.89990234375,2326.050048828125,2385.39990234375,2408.699951171875,2417.35009765625,2359.25,2322.699951171875,2284.5,2275.949951171875,2237.050048828125,2225.89990234375,2223.10009765625,2201.25,2269.699951171875,2276.60009765625,2247.800048828125,2203.300048828125,2237.550048828125,2248.0,2234.699951171875,2331.050048828125,2331.449951171875,2325.85009765625,2341.449951171875,2324.85009765625,2336.35009765625,2346.64990234375,2355.5,2367.449951171875,2340.35009765625,2352.0,2346.050048828125,2349.0,2358.0,2376.050048828125,2362.10009765625,2377.050048828125,2420.5,2441.050048828125,2420.10009765625,2448.0,2441.75,2471.89990234375,2479.550048828125,2496.60009765625,2480.300048828125,2484.35009765625,2489.25,2453.800048828125,2439.300048828125,2434.050048828125,2441.949951171875,2455.0,2454.550048828125,2440.25,2439.949951171875,2506.5,2520.60009765625,2519.949951171875,2469.89990234375,2463.25,2455.199951171875,2477.25,2479.35009765625,2498.14990234375,2499.64990234375,2481.949951171875,2484.14990234375,2520.85009765625,2551.85009765625,2552.550048828125,2577.39990234375,2551.800048828125,2557.10009765625,2564.300048828125,2535.5],\"type\":\"scatter\"},{\"marker\":{\"color\":\"#FFAA00\"},\"mode\":\"lines+markers\",\"name\":\"predictions\",\"x\":[0,1,2,3,4,5,6,7,8,9,10,11,12,13,14,15,16,17,18,19,20,21,22,23,24,25,26,27,28,29,30,31,32,33,34,35,36,37,38,39,40,41,42,43,44,45,46,47,48,49,50,51,52,53,54,55,56,57,58,59,60,61,62,63,64,65,66,67,68,69,70,71,72,73,74,75,76,77,78,79,80,81,82,83,84,85,86,87,88,89,90,91,92,93,94,95,96,97,98,99,100,101,102,103,104,105,106,107,108,109,110,111,112,113,114,115,116,117,118,119,120,121,122,123,124,125,126,127,128,129,130,131,132,133,134,135,136,137,138,139,140,141,142,143,144,145,146,147,148,149,150,151,152,153,154,155,156,157,158,159,160,161,162,163,164,165,166,167,168,169,170,171,172,173,174,175,176,177,178,179,180,181,182,183,184,185,186,187,188,189,190,191,192,193,194,195,196,197,198,199,200,201,202,203,204,205,206,207,208,209,210,211,212,213,214,215,216,217,218,219,220,221,222,223,224,225,226,227,228,229,230,231,232,233,234,235,236,237,238,239,240,241,242,243,244,245,246,247,248],\"y\":[2498.0791015625,2406.470285281314,2470.236511369128,2332.012512971811,2481.552466168537,2416.142268291329,2446.6725356259244,2414.576037658833,2559.661534268908,2470.113723142601,2476.758382499252,2433.725086789824,2419.5000571313312,2404.722888781468,2341.455481410134,2398.8262243299787,2324.8992842032517,2459.1095216080726,2376.194036657908,2452.1277414226606,2386.656427362198,2427.087191744192,2467.135184814998,2484.0288117128043,2463.4403591758537,2437.792288991387,2503.7205458732296,2442.7060768211013,2445.9475722123207,2494.200480429528,2429.4094054527136,2466.056837692343,2472.8017535466547,2380.6656366405527,2399.009067165773,2497.061277792479,2333.6492891833336,2454.3834781082724,2385.9822769865364,2451.2598151690418,2261.540980736795,2509.085585446507,2508.003500297633,2541.6456874894543,2372.2661675115673,2458.4950403453463,2395.3286710392535,2454.7847492902165,2470.159351318404,2398.040871666819,2391.4220367716525,2544.118637352364,2424.2919581295764,2288.518712771041,2468.8773066947756,2352.7525620159613,2492.8620841034185,2358.3686013117435,2371.60445334298,2448.1641009996697,2371.0889942846984,2433.6059146273597,2448.0493440358473,2443.222314898999,2483.8445740735838,2352.8275474000675,2432.2692893833246,2441.7249174879885,2449.114011965244,2414.805434234607,2417.7250802423373,2345.413543308366,2303.002742259965,2491.0339597308835,2366.5518168119875,2407.922873372498,2460.6244792902257,2445.9965688813204,2509.1776550624686,2396.3244520529806,2430.0087303139358,2415.5682101540033,2412.6112949715152,2499.887992032728,2444.2723021479605,2469.274306464535,2401.151023511918,2435.5382871731863,2472.1314902544814,2406.390675160505,2341.53245801778,2348.3560523160922,2441.944310147215,2456.293042299397,2455.379014859438,2457.5883053986613,2377.572536600481,2474.7363910540194,2427.2311741804774,2369.838336582414,2428.5848754356325,2427.242391585421,2390.6058580749923,2407.0771624875056,2439.923128132248,2467.371095104264,2437.3152825397005,2391.160392399741,2387.522847015257,2449.141998581581,2438.738847866336,2429.4239834442374,2406.013503532595,2456.6101362419167,2358.5544882718054,2500.0475465521854,2422.0284879623764,2438.053447938354,2399.6650503599412,2368.255737525782,2445.3806529869203,2397.7861417693034,2381.7293501010467,2434.898668144886,2514.1814656459637,2376.039553049464,2382.394924465989,2442.7819947070498,2434.389637792618,2409.104077590504,2512.334202032094,2359.5029053823787,2429.6105003463254,2488.730846529624,2386.5147646250407,2388.88700977528,2438.8435163496747,2558.7259112240076,2285.7671646796575,2369.497947573431,2360.7552986148376,2414.278743410029,2395.33410100453,2384.663021372606,2402.361034040813,2398.5546891485656,2397.715104772632,2403.156052214237,2410.489490284441,2376.8046706970604,2407.200151318119,2350.4990108785782,2424.066327390235,2369.0642671436954,2531.8681933253724,2449.812931441915,2394.357364475625,2495.3182659797294,2408.495894712001,2459.16690649801,2486.5940366203913,2442.5794303233038,2495.7608585159455,2415.769930667481,2526.42552548959,2417.928000059901,2401.483787303188,2389.5555504956615,2360.291885257172,2495.7120034885843,2424.5098634453293,2422.4192994256327,2414.423994663765,2399.7506273100016,2421.7850883048272,2420.1567234413906,2506.885836337227,2456.74011408312,2407.3839292950224,2385.4630730003087,2415.988712271498,2398.285598071763,2472.3879721728345,2517.134513441469,2444.109147279743,2434.72181853223,2476.2126507625667,2338.1688332260437,2443.9389349217986,2394.9045923167073,2374.0250544321657,2487.726316118661,2423.7056497771273,2352.1132601462064,2443.5883131725,2395.3467999399995,2421.2990429392858,2485.9113417969197,2472.86937678236,2435.340926158912,2470.6427777033523,2403.7890969783266,2506.806160890952,2278.3276867242057,2467.235705598547,2374.2252459000433,2385.7520014882593,2382.1159147588173,2382.779023787711,2498.938447081542,2388.960898616152,2352.95220837207,2466.322995105687,2466.040081757885,2507.2845342990604,2386.3877868774875,2503.4897159272996,2354.6341225562855,2434.828899879307,2489.60236500732,2285.5094276715718,2375.9299136741806,2472.7400723187307,2443.734856007296,2412.530795249784,2389.3096659528373,2473.6669822002345,2467.6242570388836,2387.3136802456606,2490.4957678848627,2414.2147324656835,2335.0309212811585,2446.6777451203443,2480.422670999907,2370.795107470254,2459.734718727076,2433.779341746384,2434.1692970001086,2493.6210572770597,2467.729461522015,2472.221202053003,2371.297219693027,2463.9850400921378,2451.9788909801196,2553.7311427124323,2397.7461696337564,2403.6466439398414,2380.165693772418,2384.340716413851],\"type\":\"scatter\"}],                        {\"template\":{\"data\":{\"histogram2dcontour\":[{\"type\":\"histogram2dcontour\",\"colorbar\":{\"outlinewidth\":0,\"ticks\":\"\"},\"colorscale\":[[0.0,\"#0d0887\"],[0.1111111111111111,\"#46039f\"],[0.2222222222222222,\"#7201a8\"],[0.3333333333333333,\"#9c179e\"],[0.4444444444444444,\"#bd3786\"],[0.5555555555555556,\"#d8576b\"],[0.6666666666666666,\"#ed7953\"],[0.7777777777777778,\"#fb9f3a\"],[0.8888888888888888,\"#fdca26\"],[1.0,\"#f0f921\"]]}],\"choropleth\":[{\"type\":\"choropleth\",\"colorbar\":{\"outlinewidth\":0,\"ticks\":\"\"}}],\"histogram2d\":[{\"type\":\"histogram2d\",\"colorbar\":{\"outlinewidth\":0,\"ticks\":\"\"},\"colorscale\":[[0.0,\"#0d0887\"],[0.1111111111111111,\"#46039f\"],[0.2222222222222222,\"#7201a8\"],[0.3333333333333333,\"#9c179e\"],[0.4444444444444444,\"#bd3786\"],[0.5555555555555556,\"#d8576b\"],[0.6666666666666666,\"#ed7953\"],[0.7777777777777778,\"#fb9f3a\"],[0.8888888888888888,\"#fdca26\"],[1.0,\"#f0f921\"]]}],\"heatmap\":[{\"type\":\"heatmap\",\"colorbar\":{\"outlinewidth\":0,\"ticks\":\"\"},\"colorscale\":[[0.0,\"#0d0887\"],[0.1111111111111111,\"#46039f\"],[0.2222222222222222,\"#7201a8\"],[0.3333333333333333,\"#9c179e\"],[0.4444444444444444,\"#bd3786\"],[0.5555555555555556,\"#d8576b\"],[0.6666666666666666,\"#ed7953\"],[0.7777777777777778,\"#fb9f3a\"],[0.8888888888888888,\"#fdca26\"],[1.0,\"#f0f921\"]]}],\"heatmapgl\":[{\"type\":\"heatmapgl\",\"colorbar\":{\"outlinewidth\":0,\"ticks\":\"\"},\"colorscale\":[[0.0,\"#0d0887\"],[0.1111111111111111,\"#46039f\"],[0.2222222222222222,\"#7201a8\"],[0.3333333333333333,\"#9c179e\"],[0.4444444444444444,\"#bd3786\"],[0.5555555555555556,\"#d8576b\"],[0.6666666666666666,\"#ed7953\"],[0.7777777777777778,\"#fb9f3a\"],[0.8888888888888888,\"#fdca26\"],[1.0,\"#f0f921\"]]}],\"contourcarpet\":[{\"type\":\"contourcarpet\",\"colorbar\":{\"outlinewidth\":0,\"ticks\":\"\"}}],\"contour\":[{\"type\":\"contour\",\"colorbar\":{\"outlinewidth\":0,\"ticks\":\"\"},\"colorscale\":[[0.0,\"#0d0887\"],[0.1111111111111111,\"#46039f\"],[0.2222222222222222,\"#7201a8\"],[0.3333333333333333,\"#9c179e\"],[0.4444444444444444,\"#bd3786\"],[0.5555555555555556,\"#d8576b\"],[0.6666666666666666,\"#ed7953\"],[0.7777777777777778,\"#fb9f3a\"],[0.8888888888888888,\"#fdca26\"],[1.0,\"#f0f921\"]]}],\"surface\":[{\"type\":\"surface\",\"colorbar\":{\"outlinewidth\":0,\"ticks\":\"\"},\"colorscale\":[[0.0,\"#0d0887\"],[0.1111111111111111,\"#46039f\"],[0.2222222222222222,\"#7201a8\"],[0.3333333333333333,\"#9c179e\"],[0.4444444444444444,\"#bd3786\"],[0.5555555555555556,\"#d8576b\"],[0.6666666666666666,\"#ed7953\"],[0.7777777777777778,\"#fb9f3a\"],[0.8888888888888888,\"#fdca26\"],[1.0,\"#f0f921\"]]}],\"mesh3d\":[{\"type\":\"mesh3d\",\"colorbar\":{\"outlinewidth\":0,\"ticks\":\"\"}}],\"scatter\":[{\"fillpattern\":{\"fillmode\":\"overlay\",\"size\":10,\"solidity\":0.2},\"type\":\"scatter\"}],\"parcoords\":[{\"type\":\"parcoords\",\"line\":{\"colorbar\":{\"outlinewidth\":0,\"ticks\":\"\"}}}],\"scatterpolargl\":[{\"type\":\"scatterpolargl\",\"marker\":{\"colorbar\":{\"outlinewidth\":0,\"ticks\":\"\"}}}],\"bar\":[{\"error_x\":{\"color\":\"#2a3f5f\"},\"error_y\":{\"color\":\"#2a3f5f\"},\"marker\":{\"line\":{\"color\":\"#E5ECF6\",\"width\":0.5},\"pattern\":{\"fillmode\":\"overlay\",\"size\":10,\"solidity\":0.2}},\"type\":\"bar\"}],\"scattergeo\":[{\"type\":\"scattergeo\",\"marker\":{\"colorbar\":{\"outlinewidth\":0,\"ticks\":\"\"}}}],\"scatterpolar\":[{\"type\":\"scatterpolar\",\"marker\":{\"colorbar\":{\"outlinewidth\":0,\"ticks\":\"\"}}}],\"histogram\":[{\"marker\":{\"pattern\":{\"fillmode\":\"overlay\",\"size\":10,\"solidity\":0.2}},\"type\":\"histogram\"}],\"scattergl\":[{\"type\":\"scattergl\",\"marker\":{\"colorbar\":{\"outlinewidth\":0,\"ticks\":\"\"}}}],\"scatter3d\":[{\"type\":\"scatter3d\",\"line\":{\"colorbar\":{\"outlinewidth\":0,\"ticks\":\"\"}},\"marker\":{\"colorbar\":{\"outlinewidth\":0,\"ticks\":\"\"}}}],\"scattermapbox\":[{\"type\":\"scattermapbox\",\"marker\":{\"colorbar\":{\"outlinewidth\":0,\"ticks\":\"\"}}}],\"scatterternary\":[{\"type\":\"scatterternary\",\"marker\":{\"colorbar\":{\"outlinewidth\":0,\"ticks\":\"\"}}}],\"scattercarpet\":[{\"type\":\"scattercarpet\",\"marker\":{\"colorbar\":{\"outlinewidth\":0,\"ticks\":\"\"}}}],\"carpet\":[{\"aaxis\":{\"endlinecolor\":\"#2a3f5f\",\"gridcolor\":\"white\",\"linecolor\":\"white\",\"minorgridcolor\":\"white\",\"startlinecolor\":\"#2a3f5f\"},\"baxis\":{\"endlinecolor\":\"#2a3f5f\",\"gridcolor\":\"white\",\"linecolor\":\"white\",\"minorgridcolor\":\"white\",\"startlinecolor\":\"#2a3f5f\"},\"type\":\"carpet\"}],\"table\":[{\"cells\":{\"fill\":{\"color\":\"#EBF0F8\"},\"line\":{\"color\":\"white\"}},\"header\":{\"fill\":{\"color\":\"#C8D4E3\"},\"line\":{\"color\":\"white\"}},\"type\":\"table\"}],\"barpolar\":[{\"marker\":{\"line\":{\"color\":\"#E5ECF6\",\"width\":0.5},\"pattern\":{\"fillmode\":\"overlay\",\"size\":10,\"solidity\":0.2}},\"type\":\"barpolar\"}],\"pie\":[{\"automargin\":true,\"type\":\"pie\"}]},\"layout\":{\"autotypenumbers\":\"strict\",\"colorway\":[\"#636efa\",\"#EF553B\",\"#00cc96\",\"#ab63fa\",\"#FFA15A\",\"#19d3f3\",\"#FF6692\",\"#B6E880\",\"#FF97FF\",\"#FECB52\"],\"font\":{\"color\":\"#2a3f5f\"},\"hovermode\":\"closest\",\"hoverlabel\":{\"align\":\"left\"},\"paper_bgcolor\":\"white\",\"plot_bgcolor\":\"#E5ECF6\",\"polar\":{\"bgcolor\":\"#E5ECF6\",\"angularaxis\":{\"gridcolor\":\"white\",\"linecolor\":\"white\",\"ticks\":\"\"},\"radialaxis\":{\"gridcolor\":\"white\",\"linecolor\":\"white\",\"ticks\":\"\"}},\"ternary\":{\"bgcolor\":\"#E5ECF6\",\"aaxis\":{\"gridcolor\":\"white\",\"linecolor\":\"white\",\"ticks\":\"\"},\"baxis\":{\"gridcolor\":\"white\",\"linecolor\":\"white\",\"ticks\":\"\"},\"caxis\":{\"gridcolor\":\"white\",\"linecolor\":\"white\",\"ticks\":\"\"}},\"coloraxis\":{\"colorbar\":{\"outlinewidth\":0,\"ticks\":\"\"}},\"colorscale\":{\"sequential\":[[0.0,\"#0d0887\"],[0.1111111111111111,\"#46039f\"],[0.2222222222222222,\"#7201a8\"],[0.3333333333333333,\"#9c179e\"],[0.4444444444444444,\"#bd3786\"],[0.5555555555555556,\"#d8576b\"],[0.6666666666666666,\"#ed7953\"],[0.7777777777777778,\"#fb9f3a\"],[0.8888888888888888,\"#fdca26\"],[1.0,\"#f0f921\"]],\"sequentialminus\":[[0.0,\"#0d0887\"],[0.1111111111111111,\"#46039f\"],[0.2222222222222222,\"#7201a8\"],[0.3333333333333333,\"#9c179e\"],[0.4444444444444444,\"#bd3786\"],[0.5555555555555556,\"#d8576b\"],[0.6666666666666666,\"#ed7953\"],[0.7777777777777778,\"#fb9f3a\"],[0.8888888888888888,\"#fdca26\"],[1.0,\"#f0f921\"]],\"diverging\":[[0,\"#8e0152\"],[0.1,\"#c51b7d\"],[0.2,\"#de77ae\"],[0.3,\"#f1b6da\"],[0.4,\"#fde0ef\"],[0.5,\"#f7f7f7\"],[0.6,\"#e6f5d0\"],[0.7,\"#b8e186\"],[0.8,\"#7fbc41\"],[0.9,\"#4d9221\"],[1,\"#276419\"]]},\"xaxis\":{\"gridcolor\":\"white\",\"linecolor\":\"white\",\"ticks\":\"\",\"title\":{\"standoff\":15},\"zerolinecolor\":\"white\",\"automargin\":true,\"zerolinewidth\":2},\"yaxis\":{\"gridcolor\":\"white\",\"linecolor\":\"white\",\"ticks\":\"\",\"title\":{\"standoff\":15},\"zerolinecolor\":\"white\",\"automargin\":true,\"zerolinewidth\":2},\"scene\":{\"xaxis\":{\"backgroundcolor\":\"#E5ECF6\",\"gridcolor\":\"white\",\"linecolor\":\"white\",\"showbackground\":true,\"ticks\":\"\",\"zerolinecolor\":\"white\",\"gridwidth\":2},\"yaxis\":{\"backgroundcolor\":\"#E5ECF6\",\"gridcolor\":\"white\",\"linecolor\":\"white\",\"showbackground\":true,\"ticks\":\"\",\"zerolinecolor\":\"white\",\"gridwidth\":2},\"zaxis\":{\"backgroundcolor\":\"#E5ECF6\",\"gridcolor\":\"white\",\"linecolor\":\"white\",\"showbackground\":true,\"ticks\":\"\",\"zerolinecolor\":\"white\",\"gridwidth\":2}},\"shapedefaults\":{\"line\":{\"color\":\"#2a3f5f\"}},\"annotationdefaults\":{\"arrowcolor\":\"#2a3f5f\",\"arrowhead\":0,\"arrowwidth\":1},\"geo\":{\"bgcolor\":\"white\",\"landcolor\":\"#E5ECF6\",\"subunitcolor\":\"white\",\"showland\":true,\"showlakes\":true,\"lakecolor\":\"white\"},\"title\":{\"x\":0.05},\"mapbox\":{\"style\":\"light\"}}},\"legend\":{\"orientation\":\"h\",\"x\":0.5,\"xanchor\":\"center\"},\"xaxis\":{\"gridcolor\":\"lightgrey\",\"title\":{\"text\":\"Timestep\"}},\"yaxis\":{\"gridcolor\":\"lightgrey\",\"title\":{\"text\":\"Stock price\"}},\"title\":{\"text\":\"MCMC prediction\",\"x\":0.5},\"margin\":{\"l\":0,\"r\":0,\"t\":30,\"b\":0},\"plot_bgcolor\":\"#FFFFFF\",\"width\":1150,\"height\":600},                        {\"responsive\": true}                    ).then(function(){\n",
       "                            \n",
       "var gd = document.getElementById('b118c2c3-3ba4-4270-84ed-9578d1a9bd9f');\n",
       "var x = new MutationObserver(function (mutations, observer) {{\n",
       "        var display = window.getComputedStyle(gd).display;\n",
       "        if (!display || display === 'none') {{\n",
       "            console.log([gd, 'removed!']);\n",
       "            Plotly.purge(gd);\n",
       "            observer.disconnect();\n",
       "        }}\n",
       "}});\n",
       "\n",
       "// Listen for the removal of the full notebook cells\n",
       "var notebookContainer = gd.closest('#notebook-container');\n",
       "if (notebookContainer) {{\n",
       "    x.observe(notebookContainer, {childList: true});\n",
       "}}\n",
       "\n",
       "// Listen for the clearing of the current output cell\n",
       "var outputEl = gd.closest('.output');\n",
       "if (outputEl) {{\n",
       "    x.observe(outputEl, {childList: true});\n",
       "}}\n",
       "\n",
       "                        })                };                });            </script>        </div>"
      ]
     },
     "metadata": {},
     "output_type": "display_data"
    }
   ],
   "source": [
    "get_forecast(hist)"
   ]
  },
  {
   "cell_type": "code",
   "execution_count": null,
   "id": "677c8a56-6313-4d11-bfb9-769c69c2d0dc",
   "metadata": {},
   "outputs": [],
   "source": [
    "import pandas as pd\n",
    "import numpy as np\n",
    "import pymc3 as pm\n",
    "\n",
    "def mcmc_stock_price_forecasting(prediction_dates, train_df, test_df):\n",
    "    # Extract the training and testing data\n",
    "    train_dates = train_df.index\n",
    "    train_prices = train_df['Close'].values\n",
    "    test_dates = test_df.index\n",
    "    test_prices = test_df['Close'].values\n",
    "\n",
    "    # Create a dictionary to store the common errors\n",
    "    common_errors = {}\n",
    "\n",
    "    with pm.Model() as model:\n",
    "        # Priors for the model parameters\n",
    "        alpha = pm.Normal('alpha', mu=0, sd=10)\n",
    "        beta = pm.Normal('beta', mu=0, sd=10)\n",
    "\n",
    "        # Linear regression model\n",
    "        mu = alpha + beta * train_prices\n",
    "\n",
    "        # Standard deviation of the residuals\n",
    "        sigma = pm.HalfNormal('sigma', sd=10)\n",
    "\n",
    "        # Likelihood function\n",
    "        likelihood = pm.Normal('likelihood', mu=mu, sd=sigma, observed=train_prices)\n",
    "\n",
    "        # Sampling\n",
    "        trace = pm.sample(2000, tune=1000, cores=1)\n",
    "\n",
    "    # Get the posterior samples\n",
    "    posterior_samples = trace['alpha'].tolist() + trace['beta'].tolist()\n",
    "\n",
    "    # Perform predictions for the given prediction dates\n",
    "    prediction_prices = []\n",
    "    for date in prediction_dates:\n",
    "        # Calculate the predicted price using the posterior samples\n",
    "        predicted_price = np.mean(posterior_samples) + np.random.choice(posterior_samples)\n",
    "        prediction_prices.append(predicted_price)\n",
    "\n",
    "    # Create a DataFrame with the predicted prices\n",
    "    prediction_df = pd.DataFrame(prediction_prices, index=prediction_dates, columns=['Predicted Price'])\n",
    "\n",
    "    # Calculate the common errors on the testing data\n",
    "    test_predictions = trace['alpha'][:, np.newaxis] + trace['beta'][:, np.newaxis] * test_prices\n",
    "    common_errors['Mean Absolute Error'] = np.mean(np.abs(test_predictions - test_prices))\n",
    "    common_errors['Root Mean Squared Error'] = np.sqrt(np.mean((test_predictions - test_prices) ** 2))\n",
    "    common_errors['Mean Absolute Percentage Error'] = np.mean(np.abs((test_predictions - test_prices) / test_prices)) * 100\n",
    "\n",
    "    return prediction_df, common_errors\n"
   ]
  },
  {
   "cell_type": "code",
   "execution_count": null,
   "id": "6e44c7cb-4595-49c0-95ad-cd58abcdd187",
   "metadata": {
    "papermill": {
     "duration": 31.901479,
     "end_time": "2021-09-10T14:21:26.619382",
     "exception": false,
     "start_time": "2021-09-10T14:20:54.717903",
     "status": "completed"
    },
    "tags": []
   },
   "outputs": [],
   "source": [
    "mcmc_pred, mcmc_rmse = MH(stock_name, data)\n",
    "mcmc_pred = np.vstack(mcmc_pred)"
   ]
  },
  {
   "cell_type": "code",
   "execution_count": null,
   "id": "3cac475c-2ff6-4896-bd75-ecb70d41483a",
   "metadata": {
    "papermill": {
     "duration": 0.470639,
     "end_time": "2021-09-10T14:21:27.546321",
     "exception": false,
     "start_time": "2021-09-10T14:21:27.075682",
     "status": "completed"
    },
    "tags": []
   },
   "outputs": [],
   "source": [
    "print(mcmc_pred.shape)"
   ]
  },
  {
   "cell_type": "markdown",
   "id": "38bdff89-fd04-4eaa-b2ca-89ba0493e0cc",
   "metadata": {
    "papermill": {
     "duration": 0.459248,
     "end_time": "2021-09-10T14:21:28.512040",
     "exception": false,
     "start_time": "2021-09-10T14:21:28.052792",
     "status": "completed"
    },
    "tags": []
   },
   "source": [
    "<a id=\"section-six\"></a>\n",
    "# Prediction optimization"
   ]
  },
  {
   "cell_type": "markdown",
   "id": "e65a88a6-d8f5-4c5b-b6a7-423912f1e7d5",
   "metadata": {
    "papermill": {
     "duration": 0.458414,
     "end_time": "2021-09-10T14:21:29.421293",
     "exception": false,
     "start_time": "2021-09-10T14:21:28.962879",
     "status": "completed"
    },
    "tags": []
   },
   "source": [
    "Now let's compare performance of 3 methods: LSTM, ARIMA and MCMC."
   ]
  },
  {
   "cell_type": "code",
   "execution_count": null,
   "id": "41f50dd7-bd49-473a-852c-095c4e5383f6",
   "metadata": {
    "papermill": {
     "duration": 0.536599,
     "end_time": "2021-09-10T14:21:30.423183",
     "exception": false,
     "start_time": "2021-09-10T14:21:29.886584",
     "status": "completed"
    },
    "tags": []
   },
   "outputs": [],
   "source": [
    "# compare predictions\n",
    "lstm_pred_gr = np.reshape(lstm_pred, (22,))\n",
    "mcmc_pred_gr = np.reshape(mcmc_pred, (22,))\n",
    "arima_pred_gr = np.reshape(arima_pred, (22,))\n",
    "fig = go.Figure()\n",
    "fig.add_trace(go.Scatter(x=list(range(0, 21)), y=hist_data, mode='lines+markers', line=dict(color='#39304A', width=5),\n",
    "                         marker=dict(color='#39304A', size=10),  name='historical'))\n",
    "fig.add_trace(go.Scatter(x=list(range(0, 21)), y=lstm_pred_gr, mode='lines+markers', \n",
    "                         line=dict(color='#FF6601'), name='LSTM'))\n",
    "fig.add_trace(go.Scatter(x=list(range(0, 21)), y=mcmc_pred_gr, mode='lines+markers', \n",
    "                         line=dict(color='#CB000A'), name='MCMC'))\n",
    "fig.add_trace(go.Scatter(x=list(range(0, 21)), y=arima_pred_gr, mode='lines+markers', \n",
    "                         line=dict(color='#FFDB2D'), name='ARIMA'))\n",
    "\n",
    "fig.update_layout(legend_orientation=\"h\",\n",
    "                  legend=dict(x=.5, xanchor=\"center\"),\n",
    "                  plot_bgcolor='#FFFFFF',  \n",
    "                  xaxis=dict(gridcolor = 'lightgrey'),\n",
    "                  yaxis=dict(gridcolor = 'lightgrey'),\n",
    "                  title_text = f'{stock_name} predictions', title_x = 0.5,\n",
    "                  xaxis_title=\"Timestep\",\n",
    "                  yaxis_title=\"Stock price\",\n",
    "                  width = 1150, \n",
    "                  height = 600,\n",
    "                  margin=dict(l=0, r=0, t=30, b=0))\n",
    "fig.show()\n",
    "\n",
    "x = ['LSTM', 'ARIMA', 'MCMC']\n",
    "y = [lstm_rmse, arima_rmse, mcmc_rmse]\n",
    "\n",
    "fig = go.Figure(data=[go.Bar(x=x, y=y,\n",
    "            hovertext=['LSTM RMSE (21 epochs)', 'ARIMA RMSE', 'MCMC RMSE (100000 iterations)'])])\n",
    "fig.update_traces(marker_color='#FFAA00', marker_line_color='#39304A',\n",
    "                  marker_line_width=1.5, opacity=0.7)\n",
    "fig.update_layout(title_text='Prediction RMSE by methods',\n",
    "                  plot_bgcolor='#FFFFFF',  \n",
    "                  width = 1150, \n",
    "                  height = 600,\n",
    "                  xaxis=dict(gridcolor = 'lightgrey'),\n",
    "                  yaxis=dict(gridcolor = 'lightgrey'))\n",
    "fig.show()"
   ]
  },
  {
   "attachments": {
    "8d8e6254-4052-4682-8829-2a4927d81c1b.PNG": {
     "image/png": "[encoded data removed]"
    }
   },
   "cell_type": "markdown",
   "id": "0bde5142-6cf0-46d9-a599-baad14f75a61",
   "metadata": {
    "papermill": {
     "duration": 0.455317,
     "end_time": "2021-09-10T14:21:31.332138",
     "exception": false,
     "start_time": "2021-09-10T14:21:30.876821",
     "status": "completed"
    },
    "tags": []
   },
   "source": [
    "Obviously, all threee methods demonstrate very different performance. What I do in the next step is just blending predictions of 3 models by creating an optimization problem, where target function is RMSE between forecast and historical data for last month: \n",
    "![pred_opt.PNG](attachment:8d8e6254-4052-4682-8829-2a4927d81c1b.PNG)\n",
    "\n",
    "where *S* is the actual data for the prediction period;\n",
    "*S^* - predicted data for the period;\n",
    "*W* - weights for the forecasts of each model; \n",
    "The output is weighted prediction data which are close to the actual data. The model shown above is solved with PuLP package:"
   ]
  },
  {
   "cell_type": "code",
   "execution_count": null,
   "id": "07739ddf-3ded-491a-8104-c87c8c5b0cc8",
   "metadata": {
    "papermill": {
     "duration": 0.911374,
     "end_time": "2021-09-10T14:21:32.704016",
     "exception": false,
     "start_time": "2021-09-10T14:21:31.792642",
     "status": "completed"
    },
    "tags": []
   },
   "outputs": [],
   "source": [
    "import pulp as plp\n",
    "\n",
    "hist_data = yf.download(stock_name, start=\"2021-04-01\", end=\"2021-05-04\")\n",
    "hist_data = hist_data.drop(['Open', 'High', 'Low', 'Adj Close', 'Volume'], axis=1)\n",
    "hist_data = hist_data['Close']\n",
    "hist_data = np.array(hist_data)\n",
    "\n",
    "preds = []\n",
    "mse = []\n",
    "\n",
    "weights_lstm = 0.3\n",
    "weight_mcmc = 0.4\n",
    "weight_arima = 0.4\n",
    "\n",
    "# weights solver\n",
    "model = plp.LpProblem('Optimal_weights', plp.LpMinimize)\n",
    "# weights--->variables\n",
    "weight_lstm = plp.LpVariable(\"weight_lstm\", lowBound = 0, upBound=0.6)\n",
    "weight_mcmc = plp.LpVariable(\"weight_mcmc\", lowBound = 0, upBound=0.6)\n",
    "weight_arima = plp.LpVariable(\"weight_arima\", lowBound = 0, upBound=0.6)\n",
    "\n",
    "for i in range(len(hist_data)):\n",
    "    preds.append(lstm_pred[i]*weight_lstm + mcmc_pred[i]*weight_mcmc + arima_pred[i]*weight_arima)\n",
    "    \n",
    "for i in range (len(hist_data)):\n",
    "    mse.append(hist_data[i] - preds[i])\n",
    "# target function--->mean squared error\n",
    "mse = np.mean(mse)\n",
    "sum_w = weight_lstm + weight_mcmc + weight_arima \n",
    "\n",
    "model += mse\n",
    "model += sum_w <= 1.0\n",
    "model += sum_w >= 1.0\n",
    "\n",
    "plp.LpSolverDefault.msg = 1\n",
    "\n",
    "# solve #\n",
    "model.solve()\n",
    "print('model solve')\n",
    "status = model.solve()\n",
    "print(\"Model status: \", plp.LpStatus[status])\n",
    "print(model)\n",
    "\n",
    "weight_mcmc_f = weight_mcmc.varValue\n",
    "weight_arima_f = weight_arima.varValue\n",
    "weight_lstm_f = weight_lstm.varValue\n",
    "\n",
    "preds_final = []\n",
    "# Create final predictions from 3 methods\n",
    "for i in range(len(hist_data)):\n",
    "    preds_final.append(lstm_pred[i]*weight_lstm_f + mcmc_pred[i]*weight_mcmc_f + arima_pred[i]*weight_arima_f)\n",
    "preds_final = np.vstack(preds_final)    \n",
    "#print(preds_final)\n",
    "\n",
    "# build graphs\n",
    "preds_gr = np.reshape(preds_final, (22,))\n",
    "fig = go.Figure()\n",
    "fig.add_trace(go.Scatter(x=list(range(0, 21)), y=hist_data, mode='lines+markers',  name='historical', marker_color='#39304A'))\n",
    "fig.add_trace(go.Scatter(x=list(range(0, 21)), y=preds_gr, mode='lines+markers', name='predictions', marker_color='#FFAA00'))\n",
    "fig.update_layout(legend_orientation=\"h\",\n",
    "                legend=dict(x=.5, xanchor=\"center\"),\n",
    "                plot_bgcolor='#FFFFFF',  \n",
    "                xaxis=dict(gridcolor = 'lightgrey'),\n",
    "                yaxis=dict(gridcolor = 'lightgrey'), \n",
    "                title_text = f'{stock_name} final prediction', title_x = 0.5,\n",
    "                xaxis_title=\"Timestep\",\n",
    "                yaxis_title=\"Stock price\",\n",
    "                width = 1150, \n",
    "                height = 600,\n",
    "                margin=dict(l=0, r=0, t=30, b=0))\n",
    "fig.show()\n",
    "\n",
    "mse = []\n",
    "for i in range (len(hist_data)):\n",
    "    mse.append(abs(hist_data[i] - preds_final[i]))\n",
    "mse = np.mean(mse)\n",
    "rmse = math.sqrt(mse)\n",
    "print(f'RMSE = {rmse}')\n",
    "print(f'LSTM weight: {weight_lstm_f}')\n",
    "print(f'MCMC weight: {weight_mcmc_f}')\n",
    "print(f'ARIMA weight: {weight_arima_f}')"
   ]
  },
  {
   "cell_type": "markdown",
   "id": "8e91053e-ce39-4a11-a848-1963b844d5b1",
   "metadata": {
    "papermill": {
     "duration": 0.458998,
     "end_time": "2021-09-10T14:21:33.630287",
     "exception": false,
     "start_time": "2021-09-10T14:21:33.171289",
     "status": "completed"
    },
    "tags": []
   },
   "source": [
    "Calculated weights speak for themselves. Sadly, ARIMA did not prove to be efficient at all."
   ]
  },
  {
   "cell_type": "markdown",
   "id": "5c66be34-1708-40fe-a125-96d28b3af571",
   "metadata": {
    "papermill": {
     "duration": 0.522914,
     "end_time": "2021-09-10T14:21:34.612911",
     "exception": false,
     "start_time": "2021-09-10T14:21:34.089997",
     "status": "completed"
    },
    "tags": []
   },
   "source": [
    "<a id=\"section-seven\"></a>\n",
    "# Summary"
   ]
  },
  {
   "cell_type": "markdown",
   "id": "11b27778-ba5c-46ee-a841-782d22a4ba80",
   "metadata": {
    "papermill": {
     "duration": 0.46341,
     "end_time": "2021-09-10T14:21:35.535858",
     "exception": false,
     "start_time": "2021-09-10T14:21:35.072448",
     "status": "completed"
    },
    "tags": []
   },
   "source": [
    "In this notebook various methods of stock price predicting were tested on historical stock data. Each method has its own advantages and disavantages, but those can be used for good by blending different methods for generating one prediction. In this case our historical data from last year shows high volatility, so methods like ARIMA lose their efficiency in forecasting. Using our blending method our predictions can be flexible, depending on previous historical data of the stock. \n",
    "\n",
    "***If you made it this far, congrats! Thank you for reading this and hope you enjoyed my notebook! Please feel free to comment and upvote :)***"
   ]
  }
 ],
 "metadata": {
  "kernelspec": {
   "display_name": "Python 3 (ipykernel)",
   "language": "python",
   "name": "python3"
  },
  "language_info": {
   "codemirror_mode": {
    "name": "ipython",
    "version": 3
   },
   "file_extension": ".py",
   "mimetype": "text/x-python",
   "name": "python",
   "nbconvert_exporter": "python",
   "pygments_lexer": "ipython3",
   "version": "3.8.16"
  }
 },
 "nbformat": 4,
 "nbformat_minor": 5
}
