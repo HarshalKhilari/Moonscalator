{
 "cells": [
  {
   "cell_type": "code",
   "execution_count": null,
   "id": "2722b10b",
   "metadata": {},
   "outputs": [
    {
     "name": "stdout",
     "output_type": "stream",
     "text": [
      "Invalid symbol. Please enter a valid symbol or choose from the following suggestions:\n",
      "Last Refresh Time (IST): 2023-06-01 15:48:45 IST\n"
     ]
    }
   ],
   "source": [
    "import time\n",
    "from datetime import datetime\n",
    "from pytz import timezone\n",
    "from IPython.display import clear_output\n",
    "\n",
    "\n",
    "def plot_stock_data(symbol):\n",
    "    # Code to limit number of calls to get data to 2 per 5 seconds\n",
    "    # so that Yahoo doesn't rate limit or block our IP\n",
    "    # Code taken from yfinance GitHub page\n",
    "    !pip install requests_cache\n",
    "    !pip install requests_ratelimiter\n",
    "    !pip install yfinance\n",
    "    from requests import Session\n",
    "    from requests_cache import CacheMixin, SQLiteCache\n",
    "    from requests_ratelimiter import LimiterMixin, MemoryQueueBucket\n",
    "    from pyrate_limiter import Duration, RequestRate, Limiter\n",
    "    class CachedLimiterSession(CacheMixin, LimiterMixin, Session):\n",
    "        pass\n",
    "\n",
    "    session = CachedLimiterSession(\n",
    "        limiter=Limiter(RequestRate(2, Duration.SECOND*5)),  # max 2 requests per 5 seconds\n",
    "        bucket_class=MemoryQueueBucket,\n",
    "        backend=SQLiteCache(\"yfinance.cache\")\n",
    "    )\n",
    "\n",
    "    # Code to get entire history for the given stock symbol\n",
    "    import yfinance as yf\n",
    "    import pandas as pd\n",
    "    stock = yf.Ticker(symbol, session=session)\n",
    "    hist = stock.history(period=\"max\")\n",
    "\n",
    "    # Interactive plot of the time series\n",
    "    from plotly import graph_objs as go\n",
    "    fig = go.Figure()\n",
    "    fig.add_trace(go.Scatter(x=hist.index, y=hist.Open, name=\"Stock Open\"))\n",
    "    fig.add_trace(go.Scatter(x=hist.index, y=hist.Close, name=\"Stock Close\"))\n",
    "    fig.layout.update(title_text=f\"{stock.info['longName']} Stock Price\", width = 1250, height = 600, xaxis_rangeslider_visible=True)\n",
    "    fig.show()\n",
    "# Sample list of highly ranked stock symbols\n",
    "suggestions = ['AAPL', 'AMZN', 'GOOGL', 'MSFT', 'TSLA', 'RELIANCE.NS', 'TATASTEEL.NS', 'HDFCBANK.NS']\n",
    "print(suggestions)\n",
    "symbol = input(\"Enter the stock symbol: \")\n",
    "\n",
    "\n",
    "while True:\n",
    "    if symbol.upper() in suggestions:\n",
    "        plot_stock_data(symbol)\n",
    "    elif symbol == \"\":\n",
    "        pass\n",
    "    else:\n",
    "        print(\"Invalid symbol. Please enter a valid symbol or choose from the following suggestions:\")\n",
    "         # Get current time in IST\n",
    "    ist = timezone('Asia/Kolkata')\n",
    "    current_time = datetime.now(ist).strftime(\"%Y-%m-%d %H:%M:%S IST\")\n",
    "    print(\"Last Refresh Time (IST):\", current_time)\n",
    "\n",
    "    time.sleep(1200)  # Wait for 20 minutes\n",
    "\n",
    "    clear_output(wait=True)  # Clear previous output\n",
    "    \n",
    "    symbol = symbol  # Reassign the symbol without prompting for user input"
   ]
  },
  {
   "cell_type": "code",
   "execution_count": null,
   "id": "8ccf3f8d",
   "metadata": {},
   "outputs": [],
   "source": []
  }
 ],
 "metadata": {
  "kernelspec": {
   "display_name": "Python 3 (ipykernel)",
   "language": "python",
   "name": "python3"
  },
  "language_info": {
   "codemirror_mode": {
    "name": "ipython",
    "version": 3
   },
   "file_extension": ".py",
   "mimetype": "text/x-python",
   "name": "python",
   "nbconvert_exporter": "python",
   "pygments_lexer": "ipython3",
   "version": "3.8.16"
  }
 },
 "nbformat": 4,
 "nbformat_minor": 5
}
